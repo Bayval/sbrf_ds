{
 "cells": [
  {
   "cell_type": "code",
   "execution_count": 1,
   "metadata": {},
   "outputs": [],
   "source": [
    "from sklearn.datasets import load_boston\n",
    "import pandas as pd\n",
    "import numpy as np\n",
    "from sklearn.model_selection import train_test_split, GridSearchCV\n",
    "from sklearn.linear_model import Ridge, Lasso, LinearRegression\n",
    "from sklearn.metrics import r2_score\n",
    "from sklearn.metrics import f1_score\n",
    "import warnings\n",
    "warnings.filterwarnings('ignore')"
   ]
  },
  {
   "cell_type": "code",
   "execution_count": 2,
   "metadata": {},
   "outputs": [],
   "source": [
    "RANDOM_STATE = 42"
   ]
  },
  {
   "cell_type": "code",
   "execution_count": 3,
   "metadata": {},
   "outputs": [],
   "source": [
    "dataset = load_boston()\n",
    "X = pd.DataFrame(dataset.data)\n",
    "X.columns = dataset.feature_names\n",
    "y = dataset.target"
   ]
  },
  {
   "cell_type": "markdown",
   "metadata": {},
   "source": [
    "1. Разделите выборку на обучающую и тестовую в отношении 80%/20%"
   ]
  },
  {
   "cell_type": "code",
   "execution_count": 4,
   "metadata": {},
   "outputs": [],
   "source": [
    "X_train, X_test, y_train, y_test = train_test_split(\n",
    "    X, y, test_size=0.2, random_state=10)"
   ]
  },
  {
   "cell_type": "markdown",
   "metadata": {},
   "source": [
    "2. Обучите стандартную регрессию, а также Ridge и  Lasso и параметрами по умолчанию и выведите их R2 на тестовой выборке"
   ]
  },
  {
   "cell_type": "code",
   "execution_count": 5,
   "metadata": {},
   "outputs": [
    {
     "name": "stdout",
     "output_type": "stream",
     "text": [
      "R2 LinearRegression 0.670933983911564\n"
     ]
    }
   ],
   "source": [
    "model_lr = LinearRegression()\n",
    "model_lr.fit(X_train, y_train)\n",
    "pred = model_lr.predict(X_test)\n",
    "print('R2 LinearRegression', r2_score(y_test, pred)) "
   ]
  },
  {
   "cell_type": "code",
   "execution_count": 6,
   "metadata": {},
   "outputs": [
    {
     "name": "stdout",
     "output_type": "stream",
     "text": [
      "R2 Ridge 0.6655627286231769\n"
     ]
    }
   ],
   "source": [
    "model_ridge = Ridge()\n",
    "model_ridge.fit(X_train, y_train)\n",
    "pred = model_ridge.predict(X_test)\n",
    "print('R2 Ridge',r2_score(y_test, pred)) "
   ]
  },
  {
   "cell_type": "code",
   "execution_count": 7,
   "metadata": {},
   "outputs": [
    {
     "name": "stdout",
     "output_type": "stream",
     "text": [
      "R2 model_lasso 0.5350073630794527\n"
     ]
    }
   ],
   "source": [
    "model_lasso = Lasso()\n",
    "model_lasso.fit(X_train, y_train)\n",
    "pred = model_lasso.predict(X_test)\n",
    "print('R2 model_lasso',r2_score(y_test, pred)) "
   ]
  },
  {
   "cell_type": "markdown",
   "metadata": {},
   "source": [
    "3. Для Ridge и Lasso подберите коэффициент регуляризации(используйте GridSearchCV, RidgeCV, LassoCV) в пределах от $10^{-5}$ до $10^5$ (по степеням 10). Посчитайте R2 на тестовой выборке по лучшим моделям и сравните с предыдущими результатами. Напишите как изменился результат"
   ]
  },
  {
   "cell_type": "code",
   "execution_count": 8,
   "metadata": {},
   "outputs": [
    {
     "name": "stdout",
     "output_type": "stream",
     "text": [
      "Лучший результат  (LassoCV): 0.671\n",
      "Лучший результат  (RidgeCV): 0.670\n"
     ]
    }
   ],
   "source": [
    "best_model_lasso = None\n",
    "best_model_Ridge = None\n",
    "best_result_lasso = 0\n",
    "best_result_Ridge = 0\n",
    "params_grid=[]\n",
    "for n in range(-5,5,1):\n",
    "    params_grid.append(10**n)\n",
    "model_Ridge = Ridge()\n",
    "model_lasso = Lasso()\n",
    "grid_Ridge = GridSearchCV(model_Ridge, {'alpha': params_grid})\n",
    "grid_lasso = GridSearchCV(model_lasso, {'alpha': params_grid})\n",
    "grid_Ridge.fit(X_train, y_train)\n",
    "grid_lasso.fit(X_train, y_train)\n",
    "result_lasso = grid_lasso.score(X_test, y_test)\n",
    "result_Ridge = grid_Ridge.score(X_test, y_test)\n",
    "if result_lasso > best_result_lasso:\n",
    "    best_model_lasso = grid_lasso \n",
    "    best_result_lasso = result_lasso\n",
    "if result_Ridge > best_result_Ridge:\n",
    "    best_model_Ridge = grid_Ridge \n",
    "    best_result_Ridge = result_Ridge\n",
    "print(f'Лучший результат  (LassoCV): {best_result_lasso:.3f}')\n",
    "print(f'Лучший результат  (RidgeCV): {best_result_Ridge:.3f}')"
   ]
  },
  {
   "cell_type": "code",
   "execution_count": 9,
   "metadata": {},
   "outputs": [
    {
     "name": "stdout",
     "output_type": "stream",
     "text": [
      "Лучший результат (RidgeCV): 0.671\n",
      "Лучший результат (LassoCV): 0.671\n"
     ]
    }
   ],
   "source": [
    "from sklearn.linear_model import RidgeCV, LassoCV\n",
    "alphas = 10**np.linspace(-5,5,11)\n",
    "model_Ridge_CV = RidgeCV(alphas=alphas,scoring='r2').fit(X_train, y_train)\n",
    "pred_ridge = model_Ridge_CV.predict(X_test)\n",
    "\n",
    "\n",
    "model_Lasso_CV = LassoCV(alphas=alphas).fit(X_train, y_train)\n",
    "pred_lasso = model_Lasso_CV.predict(X_test)\n",
    "\n",
    "print(f\"Лучший результат (RidgeCV): {r2_score(y_test, pred_ridge):.3f}\")\n",
    "print(f\"Лучший результат (LassoCV): {r2_score(y_test, pred_lasso):.3f}\")\n"
   ]
  },
  {
   "cell_type": "markdown",
   "metadata": {},
   "source": [
    "Результат при подборе коэффициента регуляризации улучшился у обоеих моделей, у Lasso результат улучшился значительнее."
   ]
  },
  {
   "cell_type": "markdown",
   "metadata": {},
   "source": [
    "4. Проведите масштабирование выборки(используйте Pipeline, StandardScaler, MinMaxScaler), посчитайте R2 и сравните с предыдущими результатами. Напишите как изменился результат"
   ]
  },
  {
   "cell_type": "code",
   "execution_count": 10,
   "metadata": {},
   "outputs": [
    {
     "name": "stdout",
     "output_type": "stream",
     "text": [
      "Ridge\n",
      "Лучший результат (StandardScaler): 0.671\n",
      "Лучший результат (MinMaxScaler): 0.666\n"
     ]
    }
   ],
   "source": [
    "from sklearn.pipeline import Pipeline\n",
    "from sklearn.preprocessing import StandardScaler\n",
    "from sklearn.preprocessing import MinMaxScaler\n",
    "\n",
    "pipeline_SS = Pipeline([\n",
    "    ('scaling', StandardScaler()),\n",
    "    ('regression', Ridge())\n",
    "])\n",
    "\n",
    "pipeline_MMS = Pipeline([\n",
    "    ('scaling', MinMaxScaler()),\n",
    "    ('regression', Ridge())\n",
    "])\n",
    "\n",
    "model_Ridge_ss = pipeline_SS.fit(X_train, y_train)\n",
    "\n",
    "model_Ridge_mms = pipeline_MMS.fit(X_train, y_train)\n",
    "\n",
    "print('Ridge')\n",
    "print(f\"Лучший результат (StandardScaler): {model_Ridge_ss.score(X_test,y_test):.3f}\")\n",
    "print(f\"Лучший результат (MinMaxScaler): {model_Ridge_mms.score(X_test,y_test):.3f}\")"
   ]
  },
  {
   "cell_type": "code",
   "execution_count": 11,
   "metadata": {},
   "outputs": [
    {
     "name": "stdout",
     "output_type": "stream",
     "text": [
      "Lasso\n",
      "Лучший результат (StandardScaler): 0.608\n",
      "Лучший результат (MinMaxScaler): 0.094\n"
     ]
    }
   ],
   "source": [
    "pipeline_SS = Pipeline([\n",
    "    ('scaling', StandardScaler()),\n",
    "    ('regression', Lasso())\n",
    "])\n",
    "\n",
    "pipeline_MMS = Pipeline([\n",
    "    ('scaling', MinMaxScaler()),\n",
    "    ('regression', Lasso())\n",
    "])\n",
    "\n",
    "model_Lasso_ss = pipeline_SS.fit(X_train, y_train)\n",
    "\n",
    "model_Lasso_mms = pipeline_MMS.fit(X_train, y_train)\n",
    "\n",
    "print('Lasso')\n",
    "print(f\"Лучший результат (StandardScaler): {model_Lasso_ss.score(X_test,y_test):.3f}\")\n",
    "print(f\"Лучший результат (MinMaxScaler): {model_Lasso_mms.score(X_test,y_test):.3f}\")\n",
    "\n"
   ]
  },
  {
   "cell_type": "markdown",
   "metadata": {},
   "source": [
    "При использовании масштабирования значение r2 метрики не изменились для Ridge модели, для модели Lasso при MinMaxScaler результат сильно ухудшился."
   ]
  },
  {
   "cell_type": "markdown",
   "metadata": {},
   "source": [
    "5. Подберите коэффициент регуляризации для Ridge и Lasso на масштабированных данных, посчитайте R2 и сравните с предыдущими результатами. Напишите как изменился результат"
   ]
  },
  {
   "cell_type": "code",
   "execution_count": 12,
   "metadata": {
    "scrolled": true
   },
   "outputs": [
    {
     "name": "stdout",
     "output_type": "stream",
     "text": [
      "Ridge R2 : 0.672\n",
      "Lasso R2 : 0.671\n"
     ]
    }
   ],
   "source": [
    "pipe = Pipeline(steps=[\n",
    "    ('scaler', 'passthrough'),\n",
    "    ('clf', 'passthrough')\n",
    "])\n",
    "params = [{\n",
    "    'scaler': [StandardScaler(), MinMaxScaler()],\n",
    "    'clf': [Ridge()],\n",
    "    'clf__alpha': alphas\n",
    "}]\n",
    "search_Ridge = GridSearchCV(pipe, params, scoring='r2', cv=10, n_jobs=-1).fit(X_train, y_train)\n",
    "\n",
    "params = [{\n",
    "    'scaler': [StandardScaler(), MinMaxScaler()],\n",
    "    'clf': [Lasso()],\n",
    "    'clf__alpha': alphas\n",
    "}]\n",
    "search_Lasso = GridSearchCV(pipe, params, scoring='r2', cv=10, n_jobs=-1).fit(X_train, y_train)\n",
    "\n",
    "print(f\"Ridge R2 : {search_Ridge.score(X_test,y_test):.3f}\")\n",
    "print(f\"Lasso R2 : {search_Lasso.score(X_test,y_test):.3f}\")"
   ]
  },
  {
   "cell_type": "markdown",
   "metadata": {},
   "source": [
    "Подбор коэффициента регуляризации на масштабированных данных для Ridge и Lasso улучшения метрики R2 не дал."
   ]
  },
  {
   "cell_type": "markdown",
   "metadata": {},
   "source": [
    "6. Добавьте попарные произведения признаков и их квадраты (используйте PolynomialFeatures) на масштабированных признаках, посчитайте R2 и сравните с предыдущими результатами. Напишите как изменился результат"
   ]
  },
  {
   "cell_type": "code",
   "execution_count": 13,
   "metadata": {},
   "outputs": [
    {
     "name": "stdout",
     "output_type": "stream",
     "text": [
      "Ridge\n",
      "R2 (StandardScaler): 0.879\n",
      "R2 (MinMaxScaler): 0.783\n",
      "Lasso\n",
      "R2 (StandardScaler): 0.741\n",
      "R2 (MinMaxScaler): 0.088\n"
     ]
    }
   ],
   "source": [
    "from sklearn.preprocessing import PolynomialFeatures\n",
    "\n",
    "poly = PolynomialFeatures(degree=2, interaction_only=True)\n",
    "\n",
    "pipeline_SS = Pipeline([\n",
    "    ('scaling', StandardScaler()),\n",
    "    ('poly', poly),\n",
    "    ('regression', Ridge())\n",
    "])\n",
    "\n",
    "pipeline_MMS = Pipeline([\n",
    "    ('scaling', MinMaxScaler()),\n",
    "    ('poly', poly),\n",
    "    ('regression', Ridge())\n",
    "\n",
    "])\n",
    "\n",
    "\n",
    "Ridge_SS = pipeline_SS.fit(X_train, y_train)\n",
    "\n",
    "Ridge_MMS = pipeline_MMS.fit(X_train, y_train)\n",
    "\n",
    "print('Ridge')\n",
    "print(f\"R2 (StandardScaler): {Ridge_SS.score(X_test,y_test):.3f}\")\n",
    "print(f\"R2 (MinMaxScaler): {Ridge_MMS.score(X_test,y_test):.3f}\")\n",
    "\n",
    "\n",
    "pipeline_SS = Pipeline([\n",
    "    ('scaling', StandardScaler()),\n",
    "    ('poly', poly),\n",
    "    ('regression', Lasso())\n",
    "])\n",
    "\n",
    "pipeline_MMS = Pipeline([\n",
    "    ('scaling', MinMaxScaler()),\n",
    "    ('poly', poly),\n",
    "    ('regression', Lasso())\n",
    "\n",
    "])\n",
    "\n",
    "\n",
    "Lasso_SS = pipeline_SS.fit(X_train, y_train)\n",
    "\n",
    "Lasso_MMS = pipeline_MMS.fit(X_train, y_train)\n",
    "\n",
    "print('Lasso')\n",
    "print(f\"R2 (StandardScaler): {Lasso_SS.score(X_test,y_test):.3f}\")\n",
    "print(f\"R2 (MinMaxScaler): {Lasso_MMS.score(X_test,y_test):.3f}\")\n",
    "\n"
   ]
  },
  {
   "cell_type": "markdown",
   "metadata": {},
   "source": [
    "Для модели Ridge значение метрики R2 улучшилось для обоих вариантов масштабирования,\n",
    "для модели Lasso при StandardScaler R2 улучшилась, при MinMaxScaler R2 незначительно ухудшилась."
   ]
  },
  {
   "cell_type": "markdown",
   "metadata": {},
   "source": [
    "7. Подберите наилучшую модель (используйте Pipeline, GridSearchSCV) подбирая тип регуляризации (L1,L2), коэффициент регуляризации, метод масштабирования и степень полинома в PolynomialFeatures. Выведите итоговые параметры и результат R2. Напишите как изменился R2 по сравнению с предыдущими экспериментами"
   ]
  },
  {
   "cell_type": "code",
   "execution_count": 14,
   "metadata": {},
   "outputs": [
    {
     "name": "stdout",
     "output_type": "stream",
     "text": [
      "best model - Lasso(alpha=0.0001)\n",
      "Лучшее значение R2 - 0.867\n",
      "scaler - MinMaxScaler()\n",
      "poly - PolynomialFeatures(degree=3, interaction_only=True)\n",
      "Wall time: 15.3 s\n"
     ]
    }
   ],
   "source": [
    "%%time\n",
    "\n",
    "pipe = Pipeline(steps=[\n",
    "    ('scaler', 'passthrough'),\n",
    "    ('poly', 'passthrough'),\n",
    "    ('clf', 'passthrough')\n",
    "])\n",
    "\n",
    "params = [{\n",
    "    'scaler': [StandardScaler(), MinMaxScaler()],\n",
    "    'poly': [PolynomialFeatures(degree=2,interaction_only=True),\n",
    "             PolynomialFeatures(degree=3,interaction_only=True),\n",
    "             PolynomialFeatures(degree=2,interaction_only=False),\n",
    "             PolynomialFeatures(degree=3,interaction_only=False)],\n",
    "    'clf': [Ridge(), Lasso()],\n",
    "    'clf__alpha': alphas\n",
    "}]\n",
    "\n",
    "search = GridSearchCV(pipe, params, scoring='r2', cv=10, n_jobs=-1).fit(X_train, y_train)\n",
    "\n",
    "\n",
    "print(f'best model - {search.best_params_[\"clf\"]}\\n'\n",
    "      f'Лучшее значение R2 - {search.score(X_test, y_test):.3f}\\n'\n",
    "      f'scaler - {search.best_params_[\"scaler\"]}\\n'\n",
    "      f'poly - {search.best_params_[\"poly\"]}')\n"
   ]
  },
  {
   "cell_type": "markdown",
   "metadata": {},
   "source": [
    "При подборе типа регуляризации (L1,L2), коэффициента регуляризации, метода масштабирования и степени полинома в PolynomialFeatures получилось достигнуть лучшее значение R2 = 0.867"
   ]
  },
  {
   "cell_type": "markdown",
   "metadata": {},
   "source": [
    "http://archive.ics.uci.edu/ml/datasets/Adult"
   ]
  },
  {
   "cell_type": "code",
   "execution_count": 15,
   "metadata": {},
   "outputs": [],
   "source": [
    "link = 'https://raw.githubusercontent.com/jbrownlee/Datasets/master/adult-all.csv'\n",
    "data = pd.read_csv(link, header=None)"
   ]
  },
  {
   "cell_type": "code",
   "execution_count": 16,
   "metadata": {},
   "outputs": [
    {
     "data": {
      "text/html": [
       "<div>\n",
       "<style scoped>\n",
       "    .dataframe tbody tr th:only-of-type {\n",
       "        vertical-align: middle;\n",
       "    }\n",
       "\n",
       "    .dataframe tbody tr th {\n",
       "        vertical-align: top;\n",
       "    }\n",
       "\n",
       "    .dataframe thead th {\n",
       "        text-align: right;\n",
       "    }\n",
       "</style>\n",
       "<table border=\"1\" class=\"dataframe\">\n",
       "  <thead>\n",
       "    <tr style=\"text-align: right;\">\n",
       "      <th></th>\n",
       "      <th>0</th>\n",
       "      <th>1</th>\n",
       "      <th>2</th>\n",
       "      <th>3</th>\n",
       "      <th>4</th>\n",
       "      <th>5</th>\n",
       "      <th>6</th>\n",
       "      <th>7</th>\n",
       "      <th>8</th>\n",
       "      <th>9</th>\n",
       "      <th>10</th>\n",
       "      <th>11</th>\n",
       "      <th>12</th>\n",
       "      <th>13</th>\n",
       "      <th>14</th>\n",
       "    </tr>\n",
       "  </thead>\n",
       "  <tbody>\n",
       "    <tr>\n",
       "      <th>0</th>\n",
       "      <td>39</td>\n",
       "      <td>State-gov</td>\n",
       "      <td>77516</td>\n",
       "      <td>Bachelors</td>\n",
       "      <td>13</td>\n",
       "      <td>Never-married</td>\n",
       "      <td>Adm-clerical</td>\n",
       "      <td>Not-in-family</td>\n",
       "      <td>White</td>\n",
       "      <td>Male</td>\n",
       "      <td>2174</td>\n",
       "      <td>0</td>\n",
       "      <td>40</td>\n",
       "      <td>United-States</td>\n",
       "      <td>&lt;=50K</td>\n",
       "    </tr>\n",
       "    <tr>\n",
       "      <th>1</th>\n",
       "      <td>50</td>\n",
       "      <td>Self-emp-not-inc</td>\n",
       "      <td>83311</td>\n",
       "      <td>Bachelors</td>\n",
       "      <td>13</td>\n",
       "      <td>Married-civ-spouse</td>\n",
       "      <td>Exec-managerial</td>\n",
       "      <td>Husband</td>\n",
       "      <td>White</td>\n",
       "      <td>Male</td>\n",
       "      <td>0</td>\n",
       "      <td>0</td>\n",
       "      <td>13</td>\n",
       "      <td>United-States</td>\n",
       "      <td>&lt;=50K</td>\n",
       "    </tr>\n",
       "    <tr>\n",
       "      <th>2</th>\n",
       "      <td>38</td>\n",
       "      <td>Private</td>\n",
       "      <td>215646</td>\n",
       "      <td>HS-grad</td>\n",
       "      <td>9</td>\n",
       "      <td>Divorced</td>\n",
       "      <td>Handlers-cleaners</td>\n",
       "      <td>Not-in-family</td>\n",
       "      <td>White</td>\n",
       "      <td>Male</td>\n",
       "      <td>0</td>\n",
       "      <td>0</td>\n",
       "      <td>40</td>\n",
       "      <td>United-States</td>\n",
       "      <td>&lt;=50K</td>\n",
       "    </tr>\n",
       "    <tr>\n",
       "      <th>3</th>\n",
       "      <td>53</td>\n",
       "      <td>Private</td>\n",
       "      <td>234721</td>\n",
       "      <td>11th</td>\n",
       "      <td>7</td>\n",
       "      <td>Married-civ-spouse</td>\n",
       "      <td>Handlers-cleaners</td>\n",
       "      <td>Husband</td>\n",
       "      <td>Black</td>\n",
       "      <td>Male</td>\n",
       "      <td>0</td>\n",
       "      <td>0</td>\n",
       "      <td>40</td>\n",
       "      <td>United-States</td>\n",
       "      <td>&lt;=50K</td>\n",
       "    </tr>\n",
       "    <tr>\n",
       "      <th>4</th>\n",
       "      <td>28</td>\n",
       "      <td>Private</td>\n",
       "      <td>338409</td>\n",
       "      <td>Bachelors</td>\n",
       "      <td>13</td>\n",
       "      <td>Married-civ-spouse</td>\n",
       "      <td>Prof-specialty</td>\n",
       "      <td>Wife</td>\n",
       "      <td>Black</td>\n",
       "      <td>Female</td>\n",
       "      <td>0</td>\n",
       "      <td>0</td>\n",
       "      <td>40</td>\n",
       "      <td>Cuba</td>\n",
       "      <td>&lt;=50K</td>\n",
       "    </tr>\n",
       "  </tbody>\n",
       "</table>\n",
       "</div>"
      ],
      "text/plain": [
       "   0                 1       2          3   4                   5   \\\n",
       "0  39         State-gov   77516  Bachelors  13       Never-married   \n",
       "1  50  Self-emp-not-inc   83311  Bachelors  13  Married-civ-spouse   \n",
       "2  38           Private  215646    HS-grad   9            Divorced   \n",
       "3  53           Private  234721       11th   7  Married-civ-spouse   \n",
       "4  28           Private  338409  Bachelors  13  Married-civ-spouse   \n",
       "\n",
       "                  6              7      8       9     10  11  12  \\\n",
       "0       Adm-clerical  Not-in-family  White    Male  2174   0  40   \n",
       "1    Exec-managerial        Husband  White    Male     0   0  13   \n",
       "2  Handlers-cleaners  Not-in-family  White    Male     0   0  40   \n",
       "3  Handlers-cleaners        Husband  Black    Male     0   0  40   \n",
       "4     Prof-specialty           Wife  Black  Female     0   0  40   \n",
       "\n",
       "              13     14  \n",
       "0  United-States  <=50K  \n",
       "1  United-States  <=50K  \n",
       "2  United-States  <=50K  \n",
       "3  United-States  <=50K  \n",
       "4           Cuba  <=50K  "
      ]
     },
     "execution_count": 16,
     "metadata": {},
     "output_type": "execute_result"
    }
   ],
   "source": [
    "data.head()"
   ]
  },
  {
   "cell_type": "markdown",
   "metadata": {},
   "source": [
    "8. Разделите выборку на признаки и целевую переменную(колонка со зачениями {<=50K,>50K}). Замените целевую переменную на числовые значения."
   ]
  },
  {
   "cell_type": "code",
   "execution_count": 17,
   "metadata": {},
   "outputs": [],
   "source": [
    "df = data.copy()\n",
    "df.iloc[:,14] = df.iloc[:,14].replace(['<=50K','>50K'],[0,1])\n"
   ]
  },
  {
   "cell_type": "code",
   "execution_count": 18,
   "metadata": {},
   "outputs": [],
   "source": [
    "X = df.iloc[:,:-1]\n",
    "y = df.iloc[:,-1]"
   ]
  },
  {
   "cell_type": "markdown",
   "metadata": {},
   "source": [
    "9. Выясните, присутствуют ли в данных пропуски. Заполните их самыми частыми значениями (испольуйте SimpleImputer)"
   ]
  },
  {
   "cell_type": "code",
   "execution_count": 19,
   "metadata": {
    "scrolled": true
   },
   "outputs": [
    {
     "data": {
      "text/plain": [
       "0     0\n",
       "1     0\n",
       "2     0\n",
       "3     0\n",
       "4     0\n",
       "5     0\n",
       "6     0\n",
       "7     0\n",
       "8     0\n",
       "9     0\n",
       "10    0\n",
       "11    0\n",
       "12    0\n",
       "13    0\n",
       "14    0\n",
       "dtype: int64"
      ]
     },
     "execution_count": 19,
     "metadata": {},
     "output_type": "execute_result"
    }
   ],
   "source": [
    "df.isnull().sum()"
   ]
  },
  {
   "cell_type": "markdown",
   "metadata": {},
   "source": [
    "Нулевых значений нет."
   ]
  },
  {
   "cell_type": "markdown",
   "metadata": {},
   "source": [
    "10. Выберите колонки с числовыми и категориальными переменными."
   ]
  },
  {
   "cell_type": "code",
   "execution_count": 20,
   "metadata": {},
   "outputs": [
    {
     "data": {
      "text/plain": [
       "[1, 3, 5, 6, 7, 8, 9, 13]"
      ]
     },
     "execution_count": 20,
     "metadata": {},
     "output_type": "execute_result"
    }
   ],
   "source": [
    "cols = X.columns\n",
    "\n",
    "X_num_cols = X._get_numeric_data().columns\n",
    "X_cat_cols = list(set(cols) - set(X_num_cols))\n",
    "X_num_cols = X_num_cols.to_list()\n",
    "X_cat_cols"
   ]
  },
  {
   "cell_type": "code",
   "execution_count": 21,
   "metadata": {},
   "outputs": [
    {
     "data": {
      "text/plain": [
       "[0, 2, 4, 10, 11, 12]"
      ]
     },
     "execution_count": 21,
     "metadata": {},
     "output_type": "execute_result"
    }
   ],
   "source": [
    "X_num_cols"
   ]
  },
  {
   "cell_type": "markdown",
   "metadata": {},
   "source": [
    "11. Создайте пайплайн по обработке колонок(используйте OneHotEncoder,MinMaxScaler)."
   ]
  },
  {
   "cell_type": "code",
   "execution_count": 22,
   "metadata": {},
   "outputs": [],
   "source": [
    "from sklearn.preprocessing import OneHotEncoder, MinMaxScaler\n",
    "from sklearn.compose import ColumnTransformer\n",
    "from sklearn.linear_model import LogisticRegression\n",
    "from sklearn.metrics import accuracy_score\n",
    "from sklearn.metrics import f1_score\n",
    "\n",
    "categorical_transformer = OneHotEncoder(handle_unknown=\"ignore\")\n",
    "\n",
    "numeric_transformer = MinMaxScaler()\n",
    "\n",
    "preprocessor = ColumnTransformer(\n",
    "    transformers=[\n",
    "        (\"num\", numeric_transformer, X_num_cols),\n",
    "        (\"cat\", categorical_transformer, X_cat_cols),\n",
    "    ]\n",
    ")\n",
    "\n",
    "clf = Pipeline(\n",
    "    steps=[(\"preprocessor\", preprocessor), (\"classifier\", LogisticRegression())]\n",
    ")\n"
   ]
  },
  {
   "cell_type": "markdown",
   "metadata": {},
   "source": [
    "12. Посчитайте метрики accuracy и f1_score на предсказании только самого частого класса в целевой переменной."
   ]
  },
  {
   "cell_type": "code",
   "execution_count": 23,
   "metadata": {},
   "outputs": [
    {
     "data": {
      "text/plain": [
       "0    37155\n",
       "1    11687\n",
       "Name: 14, dtype: int64"
      ]
     },
     "execution_count": 23,
     "metadata": {},
     "output_type": "execute_result"
    }
   ],
   "source": [
    "y.value_counts()"
   ]
  },
  {
   "cell_type": "code",
   "execution_count": 24,
   "metadata": {},
   "outputs": [
    {
     "name": "stdout",
     "output_type": "stream",
     "text": [
      "Constant prediction\n",
      "Accuracy: 0.7607182343065395\n",
      "F1-score: 0.0\n"
     ]
    }
   ],
   "source": [
    "print('Constant prediction')\n",
    "print(f'Accuracy: {accuracy_score(y, np.array([0 for _ in range(len(y))]))}')\n",
    "print(f'F1-score: {f1_score(y, np.array([0 for _ in range(len(y))]))}')\n"
   ]
  },
  {
   "cell_type": "markdown",
   "metadata": {},
   "source": [
    "13. Посчитайте cross_val_score по алгоритмам LogisticRegression, SVC, LinearSVC по метрикам accuracy и f1_score.\n",
    "Напишите удалось ли превзойти предыдущий результат."
   ]
  },
  {
   "cell_type": "code",
   "execution_count": 25,
   "metadata": {
    "scrolled": true
   },
   "outputs": [
    {
     "name": "stdout",
     "output_type": "stream",
     "text": [
      "LogisticRegression\n",
      "accuracy 0.8511323258508231\n",
      "f1 0.6564181874564248\n",
      "LinearSVC\n",
      "accuracy 0.8529135478362626\n",
      "f1 0.6578163598233313\n",
      "SVC\n",
      "accuracy 0.8399739469040318\n",
      "f1 0.6200828429738441\n"
     ]
    }
   ],
   "source": [
    "from sklearn.model_selection import cross_val_score\n",
    "from sklearn.svm import SVC, LinearSVC\n",
    "\n",
    "clf_lg = Pipeline(\n",
    "    steps=[(\"preprocessor\", preprocessor), (\"classifier\", LogisticRegression())]\n",
    ")\n",
    "\n",
    "print('LogisticRegression')\n",
    "print('accuracy', cross_val_score(clf_lg, X, y, cv=5, scoring = 'accuracy').mean())\n",
    "print('f1', cross_val_score(clf_lg, X, y, cv=5, scoring = 'f1').mean())\n",
    "\n",
    "clf_lsvc = Pipeline(\n",
    "    steps=[(\"preprocessor\", preprocessor), (\"classifier\", LinearSVC())]\n",
    ")\n",
    "print('LinearSVC')\n",
    "print('accuracy', cross_val_score(clf_lsvc, X, y, cv=5, scoring = 'accuracy').mean())\n",
    "print('f1', cross_val_score(clf_lsvc, X, y, cv=5, scoring = 'f1').mean())\n",
    "\n",
    "\n",
    "clf_svc = Pipeline(\n",
    "    steps=[(\"preprocessor\", preprocessor), (\"classifier\", SVC())]\n",
    ")\n",
    "print('SVC')\n",
    "print('accuracy', cross_val_score(clf_svc, X, y, cv=5, scoring = 'accuracy').mean())\n",
    "print('f1', cross_val_score(clf_svc, X, y, cv=5, scoring = 'f1').mean())\n",
    "\n"
   ]
  },
  {
   "cell_type": "markdown",
   "metadata": {},
   "source": [
    "Результаты метрик улучшились на каждой модели."
   ]
  },
  {
   "cell_type": "markdown",
   "metadata": {},
   "source": [
    "14. Можно заметить что в данных присутствуют значения '?', замените их самыми частыми значениями (испольуйте SimpleImputer)"
   ]
  },
  {
   "cell_type": "code",
   "execution_count": 26,
   "metadata": {},
   "outputs": [
    {
     "data": {
      "text/plain": [
       "0        0\n",
       "1     2799\n",
       "2        0\n",
       "3        0\n",
       "4        0\n",
       "5        0\n",
       "6     2809\n",
       "7        0\n",
       "8        0\n",
       "9        0\n",
       "10       0\n",
       "11       0\n",
       "12       0\n",
       "13     857\n",
       "dtype: int64"
      ]
     },
     "execution_count": 26,
     "metadata": {},
     "output_type": "execute_result"
    }
   ],
   "source": [
    "(X == '?').sum()"
   ]
  },
  {
   "cell_type": "code",
   "execution_count": 27,
   "metadata": {},
   "outputs": [
    {
     "data": {
      "text/html": [
       "<div>\n",
       "<style scoped>\n",
       "    .dataframe tbody tr th:only-of-type {\n",
       "        vertical-align: middle;\n",
       "    }\n",
       "\n",
       "    .dataframe tbody tr th {\n",
       "        vertical-align: top;\n",
       "    }\n",
       "\n",
       "    .dataframe thead th {\n",
       "        text-align: right;\n",
       "    }\n",
       "</style>\n",
       "<table border=\"1\" class=\"dataframe\">\n",
       "  <thead>\n",
       "    <tr style=\"text-align: right;\">\n",
       "      <th></th>\n",
       "      <th>0</th>\n",
       "      <th>1</th>\n",
       "      <th>2</th>\n",
       "      <th>3</th>\n",
       "      <th>4</th>\n",
       "      <th>5</th>\n",
       "      <th>6</th>\n",
       "      <th>7</th>\n",
       "      <th>8</th>\n",
       "      <th>9</th>\n",
       "      <th>10</th>\n",
       "      <th>11</th>\n",
       "      <th>12</th>\n",
       "      <th>13</th>\n",
       "    </tr>\n",
       "  </thead>\n",
       "  <tbody>\n",
       "    <tr>\n",
       "      <th>0</th>\n",
       "      <td>39</td>\n",
       "      <td>State-gov</td>\n",
       "      <td>77516</td>\n",
       "      <td>Bachelors</td>\n",
       "      <td>13</td>\n",
       "      <td>Never-married</td>\n",
       "      <td>Adm-clerical</td>\n",
       "      <td>Not-in-family</td>\n",
       "      <td>White</td>\n",
       "      <td>Male</td>\n",
       "      <td>2174</td>\n",
       "      <td>0</td>\n",
       "      <td>40</td>\n",
       "      <td>United-States</td>\n",
       "    </tr>\n",
       "    <tr>\n",
       "      <th>1</th>\n",
       "      <td>50</td>\n",
       "      <td>Self-emp-not-inc</td>\n",
       "      <td>83311</td>\n",
       "      <td>Bachelors</td>\n",
       "      <td>13</td>\n",
       "      <td>Married-civ-spouse</td>\n",
       "      <td>Exec-managerial</td>\n",
       "      <td>Husband</td>\n",
       "      <td>White</td>\n",
       "      <td>Male</td>\n",
       "      <td>0</td>\n",
       "      <td>0</td>\n",
       "      <td>13</td>\n",
       "      <td>United-States</td>\n",
       "    </tr>\n",
       "    <tr>\n",
       "      <th>2</th>\n",
       "      <td>38</td>\n",
       "      <td>Private</td>\n",
       "      <td>215646</td>\n",
       "      <td>HS-grad</td>\n",
       "      <td>9</td>\n",
       "      <td>Divorced</td>\n",
       "      <td>Handlers-cleaners</td>\n",
       "      <td>Not-in-family</td>\n",
       "      <td>White</td>\n",
       "      <td>Male</td>\n",
       "      <td>0</td>\n",
       "      <td>0</td>\n",
       "      <td>40</td>\n",
       "      <td>United-States</td>\n",
       "    </tr>\n",
       "    <tr>\n",
       "      <th>3</th>\n",
       "      <td>53</td>\n",
       "      <td>Private</td>\n",
       "      <td>234721</td>\n",
       "      <td>11th</td>\n",
       "      <td>7</td>\n",
       "      <td>Married-civ-spouse</td>\n",
       "      <td>Handlers-cleaners</td>\n",
       "      <td>Husband</td>\n",
       "      <td>Black</td>\n",
       "      <td>Male</td>\n",
       "      <td>0</td>\n",
       "      <td>0</td>\n",
       "      <td>40</td>\n",
       "      <td>United-States</td>\n",
       "    </tr>\n",
       "    <tr>\n",
       "      <th>4</th>\n",
       "      <td>28</td>\n",
       "      <td>Private</td>\n",
       "      <td>338409</td>\n",
       "      <td>Bachelors</td>\n",
       "      <td>13</td>\n",
       "      <td>Married-civ-spouse</td>\n",
       "      <td>Prof-specialty</td>\n",
       "      <td>Wife</td>\n",
       "      <td>Black</td>\n",
       "      <td>Female</td>\n",
       "      <td>0</td>\n",
       "      <td>0</td>\n",
       "      <td>40</td>\n",
       "      <td>Cuba</td>\n",
       "    </tr>\n",
       "    <tr>\n",
       "      <th>...</th>\n",
       "      <td>...</td>\n",
       "      <td>...</td>\n",
       "      <td>...</td>\n",
       "      <td>...</td>\n",
       "      <td>...</td>\n",
       "      <td>...</td>\n",
       "      <td>...</td>\n",
       "      <td>...</td>\n",
       "      <td>...</td>\n",
       "      <td>...</td>\n",
       "      <td>...</td>\n",
       "      <td>...</td>\n",
       "      <td>...</td>\n",
       "      <td>...</td>\n",
       "    </tr>\n",
       "    <tr>\n",
       "      <th>48837</th>\n",
       "      <td>39</td>\n",
       "      <td>Private</td>\n",
       "      <td>215419</td>\n",
       "      <td>Bachelors</td>\n",
       "      <td>13</td>\n",
       "      <td>Divorced</td>\n",
       "      <td>Prof-specialty</td>\n",
       "      <td>Not-in-family</td>\n",
       "      <td>White</td>\n",
       "      <td>Female</td>\n",
       "      <td>0</td>\n",
       "      <td>0</td>\n",
       "      <td>36</td>\n",
       "      <td>United-States</td>\n",
       "    </tr>\n",
       "    <tr>\n",
       "      <th>48838</th>\n",
       "      <td>64</td>\n",
       "      <td>Private</td>\n",
       "      <td>321403</td>\n",
       "      <td>HS-grad</td>\n",
       "      <td>9</td>\n",
       "      <td>Widowed</td>\n",
       "      <td>Prof-specialty</td>\n",
       "      <td>Other-relative</td>\n",
       "      <td>Black</td>\n",
       "      <td>Male</td>\n",
       "      <td>0</td>\n",
       "      <td>0</td>\n",
       "      <td>40</td>\n",
       "      <td>United-States</td>\n",
       "    </tr>\n",
       "    <tr>\n",
       "      <th>48839</th>\n",
       "      <td>38</td>\n",
       "      <td>Private</td>\n",
       "      <td>374983</td>\n",
       "      <td>Bachelors</td>\n",
       "      <td>13</td>\n",
       "      <td>Married-civ-spouse</td>\n",
       "      <td>Prof-specialty</td>\n",
       "      <td>Husband</td>\n",
       "      <td>White</td>\n",
       "      <td>Male</td>\n",
       "      <td>0</td>\n",
       "      <td>0</td>\n",
       "      <td>50</td>\n",
       "      <td>United-States</td>\n",
       "    </tr>\n",
       "    <tr>\n",
       "      <th>48840</th>\n",
       "      <td>44</td>\n",
       "      <td>Private</td>\n",
       "      <td>83891</td>\n",
       "      <td>Bachelors</td>\n",
       "      <td>13</td>\n",
       "      <td>Divorced</td>\n",
       "      <td>Adm-clerical</td>\n",
       "      <td>Own-child</td>\n",
       "      <td>Asian-Pac-Islander</td>\n",
       "      <td>Male</td>\n",
       "      <td>5455</td>\n",
       "      <td>0</td>\n",
       "      <td>40</td>\n",
       "      <td>United-States</td>\n",
       "    </tr>\n",
       "    <tr>\n",
       "      <th>48841</th>\n",
       "      <td>35</td>\n",
       "      <td>Self-emp-inc</td>\n",
       "      <td>182148</td>\n",
       "      <td>Bachelors</td>\n",
       "      <td>13</td>\n",
       "      <td>Married-civ-spouse</td>\n",
       "      <td>Exec-managerial</td>\n",
       "      <td>Husband</td>\n",
       "      <td>White</td>\n",
       "      <td>Male</td>\n",
       "      <td>0</td>\n",
       "      <td>0</td>\n",
       "      <td>60</td>\n",
       "      <td>United-States</td>\n",
       "    </tr>\n",
       "  </tbody>\n",
       "</table>\n",
       "<p>48842 rows × 14 columns</p>\n",
       "</div>"
      ],
      "text/plain": [
       "       0                 1       2          3   4                   5   \\\n",
       "0      39         State-gov   77516  Bachelors  13       Never-married   \n",
       "1      50  Self-emp-not-inc   83311  Bachelors  13  Married-civ-spouse   \n",
       "2      38           Private  215646    HS-grad   9            Divorced   \n",
       "3      53           Private  234721       11th   7  Married-civ-spouse   \n",
       "4      28           Private  338409  Bachelors  13  Married-civ-spouse   \n",
       "...    ..               ...     ...        ...  ..                 ...   \n",
       "48837  39           Private  215419  Bachelors  13            Divorced   \n",
       "48838  64           Private  321403    HS-grad   9             Widowed   \n",
       "48839  38           Private  374983  Bachelors  13  Married-civ-spouse   \n",
       "48840  44           Private   83891  Bachelors  13            Divorced   \n",
       "48841  35      Self-emp-inc  182148  Bachelors  13  Married-civ-spouse   \n",
       "\n",
       "                      6               7                   8       9     10 11  \\\n",
       "0           Adm-clerical   Not-in-family               White    Male  2174  0   \n",
       "1        Exec-managerial         Husband               White    Male     0  0   \n",
       "2      Handlers-cleaners   Not-in-family               White    Male     0  0   \n",
       "3      Handlers-cleaners         Husband               Black    Male     0  0   \n",
       "4         Prof-specialty            Wife               Black  Female     0  0   \n",
       "...                  ...             ...                 ...     ...   ... ..   \n",
       "48837     Prof-specialty   Not-in-family               White  Female     0  0   \n",
       "48838     Prof-specialty  Other-relative               Black    Male     0  0   \n",
       "48839     Prof-specialty         Husband               White    Male     0  0   \n",
       "48840       Adm-clerical       Own-child  Asian-Pac-Islander    Male  5455  0   \n",
       "48841    Exec-managerial         Husband               White    Male     0  0   \n",
       "\n",
       "       12             13  \n",
       "0      40  United-States  \n",
       "1      13  United-States  \n",
       "2      40  United-States  \n",
       "3      40  United-States  \n",
       "4      40           Cuba  \n",
       "...    ..            ...  \n",
       "48837  36  United-States  \n",
       "48838  40  United-States  \n",
       "48839  50  United-States  \n",
       "48840  40  United-States  \n",
       "48841  60  United-States  \n",
       "\n",
       "[48842 rows x 14 columns]"
      ]
     },
     "execution_count": 27,
     "metadata": {},
     "output_type": "execute_result"
    }
   ],
   "source": [
    "from sklearn.impute import SimpleImputer\n",
    "data_columns = X.columns\n",
    "imputer = SimpleImputer(missing_values='?', strategy='most_frequent')\n",
    "new_data = pd.DataFrame(imputer.fit_transform(X), columns=data_columns)\n",
    "new_data"
   ]
  },
  {
   "cell_type": "markdown",
   "metadata": {},
   "source": [
    "15. Посчитайте cross_val_score на новых данных. Напишите удалось ли улучшить результат."
   ]
  },
  {
   "cell_type": "code",
   "execution_count": 28,
   "metadata": {},
   "outputs": [
    {
     "name": "stdout",
     "output_type": "stream",
     "text": [
      "LogisticRegression\n",
      "accuracy 0.8507432753107848\n",
      "f1 0.6543407046175806\n",
      "LinearSVC\n",
      "accuracy 0.8508251523375897\n",
      "f1 0.650945261381221\n",
      "SVC\n",
      "accuracy 0.8395848963639935\n",
      "f1 0.6169178164345149\n",
      "Wall time: 12min 20s\n"
     ]
    }
   ],
   "source": [
    "%%time\n",
    "clf_lg = Pipeline(\n",
    "    steps=[(\"preprocessor\", preprocessor), (\"classifier\", LogisticRegression())]\n",
    ")\n",
    "\n",
    "print('LogisticRegression')\n",
    "print('accuracy', cross_val_score(clf_lg, new_data, y, cv=5, scoring = 'accuracy').mean())\n",
    "print('f1', cross_val_score(clf_lg, new_data, y, cv=5, scoring = 'f1').mean())\n",
    "\n",
    "\n",
    "\n",
    "clf_lsvc = Pipeline(\n",
    "    steps=[(\"preprocessor\", preprocessor), (\"classifier\", LinearSVC())]\n",
    ")\n",
    "print('LinearSVC')\n",
    "print('accuracy', cross_val_score(clf_lsvc, new_data, y, cv=5, scoring = 'accuracy').mean())\n",
    "print('f1', cross_val_score(clf_lsvc, new_data, y, cv=5, scoring = 'f1').mean())\n",
    "\n",
    "\n",
    "clf_svc = Pipeline(\n",
    "    steps=[(\"preprocessor\", preprocessor), (\"classifier\", SVC())]\n",
    ")\n",
    "print('SVC')\n",
    "print('accuracy', cross_val_score(clf_svc, new_data, y, cv=5, scoring = 'accuracy').mean())\n",
    "print('f1', cross_val_score(clf_svc, new_data, y, cv=5, scoring = 'f1').mean())\n"
   ]
  },
  {
   "cell_type": "markdown",
   "metadata": {},
   "source": [
    "Результаты метрик значительно не изменились."
   ]
  },
  {
   "cell_type": "markdown",
   "metadata": {},
   "source": [
    "16. Посчитайте cross_val_score, если просто удалить значения '?'. Напишите как изменился результат"
   ]
  },
  {
   "cell_type": "code",
   "execution_count": 29,
   "metadata": {},
   "outputs": [],
   "source": [
    "df_clear = df.replace('?', np.nan).dropna()"
   ]
  },
  {
   "cell_type": "code",
   "execution_count": 30,
   "metadata": {},
   "outputs": [
    {
     "name": "stdout",
     "output_type": "stream",
     "text": [
      "LogisticRegression\n",
      "accuracy 0.8468445746108516\n",
      "f1 0.6601244618889603\n",
      "LinearSVC\n",
      "accuracy 0.8485030154158197\n",
      "f1 0.6616132960278641\n",
      "SVC\n",
      "accuracy 0.8356995943179577\n",
      "f1 0.6267120053492474\n"
     ]
    }
   ],
   "source": [
    "X = df_clear.iloc[:,:-1]\n",
    "y = df_clear.iloc[:,-1]\n",
    "\n",
    "clf_lg = Pipeline(\n",
    "    steps=[(\"preprocessor\", preprocessor), (\"classifier\", LogisticRegression())]\n",
    ")\n",
    "\n",
    "print('LogisticRegression')\n",
    "print('accuracy', cross_val_score(clf_lg, X, y, cv=5, scoring = 'accuracy').mean())\n",
    "print('f1', cross_val_score(clf_lg, X, y, cv=5, scoring = 'f1').mean())\n",
    "\n",
    "\n",
    "\n",
    "\n",
    "clf_lsvc = Pipeline(\n",
    "    steps=[(\"preprocessor\", preprocessor), (\"classifier\", LinearSVC())]\n",
    ")\n",
    "print('LinearSVC')\n",
    "print('accuracy', cross_val_score(clf_lsvc, X, y, cv=5, scoring = 'accuracy').mean())\n",
    "print('f1', cross_val_score(clf_lsvc, X, y, cv=5, scoring = 'f1').mean())\n",
    "\n",
    "\n",
    "clf_svc = Pipeline(\n",
    "    steps=[(\"preprocessor\", preprocessor), (\"classifier\", SVC())]\n",
    ")\n",
    "print('SVC')\n",
    "print('accuracy', cross_val_score(clf_svc, X, y, cv=5, scoring = 'accuracy').mean())\n",
    "print('f1', cross_val_score(clf_svc, X, y, cv=5, scoring = 'f1').mean())\n"
   ]
  },
  {
   "cell_type": "markdown",
   "metadata": {},
   "source": [
    "Удаление признаков с '?' привело к незначительному снижению метрик. "
   ]
  },
  {
   "cell_type": "markdown",
   "metadata": {},
   "source": [
    " 17. Посчитайте cross_val_score для RandomForestClassifier,GradientBoostingClassifier. Напишите как изменился результат и какой вывод можно из этого сделать."
   ]
  },
  {
   "cell_type": "code",
   "execution_count": 31,
   "metadata": {
    "scrolled": true
   },
   "outputs": [
    {
     "name": "stdout",
     "output_type": "stream",
     "text": [
      "GradientBoostingClassifier\n",
      "accuracy 0.8628987232494463\n",
      "f1 0.6870302819762818\n",
      "RandomForestClassifier\n",
      "accuracy 0.848215568674882\n",
      "f1 0.6690845154836111\n"
     ]
    }
   ],
   "source": [
    "from sklearn.ensemble import RandomForestClassifier, GradientBoostingClassifier\n",
    "\n",
    "clf_svc = Pipeline(\n",
    "    steps=[(\"preprocessor\", preprocessor), (\"classifier\", GradientBoostingClassifier())]\n",
    ")\n",
    "print('GradientBoostingClassifier')\n",
    "print('accuracy', cross_val_score(clf_svc, X, y, cv=5, scoring = 'accuracy').mean())\n",
    "print('f1', cross_val_score(clf_svc, X, y, cv=5, scoring = 'f1').mean())\n",
    "\n",
    "\n",
    "clf_svc = Pipeline(\n",
    "    steps=[(\"preprocessor\", preprocessor), (\"classifier\", RandomForestClassifier())]\n",
    ")\n",
    "print('RandomForestClassifier')\n",
    "print('accuracy', cross_val_score(clf_svc, X, y, cv=5, scoring = 'accuracy').mean())\n",
    "print('f1', cross_val_score(clf_svc, X, y, cv=5, scoring = 'f1').mean())\n"
   ]
  },
  {
   "cell_type": "markdown",
   "metadata": {},
   "source": [
    "GradientBoostingClassifier с наибольшей точностью и значением F1 меры классифицирует признаки."
   ]
  },
  {
   "cell_type": "markdown",
   "metadata": {},
   "source": [
    "18. Подберите наилучшую модель, подбирая методы обработки колонок - масштабирование признаков, кодирование признаков и заполнение пропусков. Параметры алгоритмов оставьте по умолчанию. Выведите итоговые параметры и результат accuracy и f1_score."
   ]
  },
  {
   "cell_type": "code",
   "execution_count": 32,
   "metadata": {},
   "outputs": [],
   "source": [
    "X_train, X_test, y_train, y_test = train_test_split(\n",
    "    X, y, test_size=0.25, random_state=10)"
   ]
  },
  {
   "cell_type": "code",
   "execution_count": 33,
   "metadata": {},
   "outputs": [],
   "source": [
    "cols_train = X_train.columns\n",
    "\n",
    "X_num_cols_train = X_train._get_numeric_data().columns\n",
    "X_cat_cols_train = list(set(cols_train) - set(X_num_cols_train))\n",
    "X_num_cols_train = X_num_cols_train.to_list()"
   ]
  },
  {
   "cell_type": "code",
   "execution_count": 34,
   "metadata": {},
   "outputs": [
    {
     "name": "stdout",
     "output_type": "stream",
     "text": [
      "{'clf': RandomForestClassifier(), 'prepare_columns': ColumnTransformer(transformers=[('scale', MinMaxScaler(),\n",
      "                                 [0, 2, 4, 10, 11, 12]),\n",
      "                                ('onehot', OneHotEncoder(),\n",
      "                                 [1, 3, 5, 6, 7, 8, 9, 13])])}\n"
     ]
    }
   ],
   "source": [
    "ct_1 = ColumnTransformer([\n",
    "    ('scale',  MinMaxScaler(), X_num_cols_train),\n",
    "    ('onehot', OneHotEncoder(),  X_cat_cols_train)\n",
    "])\n",
    "\n",
    "ct_2 = ColumnTransformer([\n",
    "    ('scale',  StandardScaler(), X_num_cols_train),\n",
    "    ('onehot', OneHotEncoder(),  X_cat_cols_train)\n",
    "])\n",
    "\n",
    "pipe = Pipeline(steps=[\n",
    "    ('fill_missing', SimpleImputer(missing_values='?', strategy='most_frequent')),\n",
    "    ('prepare_columns', 'passthrough'),\n",
    "    ('clf', 'passthrough')]\n",
    ")\n",
    "\n",
    "params = [\n",
    "    {\n",
    "        'prepare_columns': [ct_1, ct_2],\n",
    "        'clf': [\n",
    "            RandomForestClassifier(),\n",
    "            GradientBoostingClassifier(),\n",
    "            LogisticRegression(),\n",
    "            LinearSVC()\n",
    "        ]\n",
    "    }\n",
    "]\n",
    "\n",
    "search = GridSearchCV(pipe, params, scoring=['accuracy', 'f1'], refit='f1', n_jobs=-1)\n",
    "search.fit(X_train, y_train)\n",
    "print(search.best_params_)\n",
    "\n"
   ]
  },
  {
   "cell_type": "code",
   "execution_count": 35,
   "metadata": {
    "scrolled": true
   },
   "outputs": [
    {
     "name": "stdout",
     "output_type": "stream",
     "text": [
      "accuracy 0.8483106315230851\n",
      "f1_score 0.6747582021619571\n"
     ]
    }
   ],
   "source": [
    "pred = search.predict(X_test)\n",
    "print('accuracy',accuracy_score(y_test, pred)) \n",
    "print('f1_score',f1_score(y_test, pred)) "
   ]
  }
 ],
 "metadata": {
  "kernelspec": {
   "display_name": "Python 3 (ipykernel)",
   "language": "python",
   "name": "python3"
  },
  "language_info": {
   "codemirror_mode": {
    "name": "ipython",
    "version": 3
   },
   "file_extension": ".py",
   "mimetype": "text/x-python",
   "name": "python",
   "nbconvert_exporter": "python",
   "pygments_lexer": "ipython3",
   "version": "3.9.7"
  }
 },
 "nbformat": 4,
 "nbformat_minor": 2
}
