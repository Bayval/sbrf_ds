{
  "cells": [
    {
      "cell_type": "code",
      "source": [
        "import pandas as pd\n",
        "import numpy as np\n",
        "from sklearn.metrics import accuracy_score\n",
        "from sklearn.model_selection import cross_val_score\n",
        "from sklearn.tree import DecisionTreeClassifier\n",
        "from sklearn.ensemble import BaggingClassifier,RandomForestClassifier\n",
        "from sklearn.model_selection import train_test_split\n",
        "from sklearn.model_selection import GridSearchCV\n",
        "from matplotlib import pyplot as plt\n",
        "import warnings\n",
        "warnings.filterwarnings('ignore')"
      ],
      "execution_count": 3,
      "outputs": [],
      "metadata": {
        "datalore": {
          "type": "CODE",
          "hide_input_from_viewers": false,
          "hide_output_from_viewers": false
        },
        "id": "uEM8SpEacwpO"
      }
    },
    {
      "cell_type": "markdown",
      "source": [
        "https://archive.ics.uci.edu/ml/datasets/wine+quality"
      ],
      "metadata": {
        "datalore": {
          "type": "MD",
          "hide_input_from_viewers": false,
          "hide_output_from_viewers": false
        },
        "id": "04vjpKPocwpS"
      }
    },
    {
      "cell_type": "code",
      "source": [
        "link = 'https://archive.ics.uci.edu/ml/machine-learning-databases/wine-quality/winequality-red.csv'\n",
        "data = pd.read_csv('https://archive.ics.uci.edu/ml/machine-learning-databases/wine-quality/winequality-red.csv',sep=';')"
      ],
      "execution_count": 6,
      "outputs": [],
      "metadata": {
        "datalore": {
          "type": "CODE",
          "hide_input_from_viewers": false,
          "hide_output_from_viewers": false
        },
        "id": "8d4mLDRgcwpV"
      }
    },
    {
      "cell_type": "code",
      "source": [
        "data = pd.read_csv('winequality-red.csv', sep = ';')\n",
        "data.head()"
      ],
      "metadata": {
        "colab": {
          "base_uri": "https://localhost:8080/",
          "height": 206
        },
        "id": "BZHcd_jMdEY1",
        "outputId": "6a0299f6-8f7b-4c71-ba3a-f9c8619a5041"
      },
      "execution_count": 7,
      "outputs": [
        {
          "output_type": "execute_result",
          "data": {
            "text/plain": [
              "   fixed acidity  volatile acidity  citric acid  residual sugar  chlorides  \\\n",
              "0            7.4              0.70         0.00             1.9      0.076   \n",
              "1            7.8              0.88         0.00             2.6      0.098   \n",
              "2            7.8              0.76         0.04             2.3      0.092   \n",
              "3           11.2              0.28         0.56             1.9      0.075   \n",
              "4            7.4              0.70         0.00             1.9      0.076   \n",
              "\n",
              "   free sulfur dioxide  total sulfur dioxide  density    pH  sulphates  \\\n",
              "0                 11.0                  34.0   0.9978  3.51       0.56   \n",
              "1                 25.0                  67.0   0.9968  3.20       0.68   \n",
              "2                 15.0                  54.0   0.9970  3.26       0.65   \n",
              "3                 17.0                  60.0   0.9980  3.16       0.58   \n",
              "4                 11.0                  34.0   0.9978  3.51       0.56   \n",
              "\n",
              "   alcohol  quality  \n",
              "0      9.4        5  \n",
              "1      9.8        5  \n",
              "2      9.8        5  \n",
              "3      9.8        6  \n",
              "4      9.4        5  "
            ],
            "text/html": [
              "\n",
              "  <div id=\"df-9ab4e5bf-9dbc-410c-82df-688aced6d462\">\n",
              "    <div class=\"colab-df-container\">\n",
              "      <div>\n",
              "<style scoped>\n",
              "    .dataframe tbody tr th:only-of-type {\n",
              "        vertical-align: middle;\n",
              "    }\n",
              "\n",
              "    .dataframe tbody tr th {\n",
              "        vertical-align: top;\n",
              "    }\n",
              "\n",
              "    .dataframe thead th {\n",
              "        text-align: right;\n",
              "    }\n",
              "</style>\n",
              "<table border=\"1\" class=\"dataframe\">\n",
              "  <thead>\n",
              "    <tr style=\"text-align: right;\">\n",
              "      <th></th>\n",
              "      <th>fixed acidity</th>\n",
              "      <th>volatile acidity</th>\n",
              "      <th>citric acid</th>\n",
              "      <th>residual sugar</th>\n",
              "      <th>chlorides</th>\n",
              "      <th>free sulfur dioxide</th>\n",
              "      <th>total sulfur dioxide</th>\n",
              "      <th>density</th>\n",
              "      <th>pH</th>\n",
              "      <th>sulphates</th>\n",
              "      <th>alcohol</th>\n",
              "      <th>quality</th>\n",
              "    </tr>\n",
              "  </thead>\n",
              "  <tbody>\n",
              "    <tr>\n",
              "      <th>0</th>\n",
              "      <td>7.4</td>\n",
              "      <td>0.70</td>\n",
              "      <td>0.00</td>\n",
              "      <td>1.9</td>\n",
              "      <td>0.076</td>\n",
              "      <td>11.0</td>\n",
              "      <td>34.0</td>\n",
              "      <td>0.9978</td>\n",
              "      <td>3.51</td>\n",
              "      <td>0.56</td>\n",
              "      <td>9.4</td>\n",
              "      <td>5</td>\n",
              "    </tr>\n",
              "    <tr>\n",
              "      <th>1</th>\n",
              "      <td>7.8</td>\n",
              "      <td>0.88</td>\n",
              "      <td>0.00</td>\n",
              "      <td>2.6</td>\n",
              "      <td>0.098</td>\n",
              "      <td>25.0</td>\n",
              "      <td>67.0</td>\n",
              "      <td>0.9968</td>\n",
              "      <td>3.20</td>\n",
              "      <td>0.68</td>\n",
              "      <td>9.8</td>\n",
              "      <td>5</td>\n",
              "    </tr>\n",
              "    <tr>\n",
              "      <th>2</th>\n",
              "      <td>7.8</td>\n",
              "      <td>0.76</td>\n",
              "      <td>0.04</td>\n",
              "      <td>2.3</td>\n",
              "      <td>0.092</td>\n",
              "      <td>15.0</td>\n",
              "      <td>54.0</td>\n",
              "      <td>0.9970</td>\n",
              "      <td>3.26</td>\n",
              "      <td>0.65</td>\n",
              "      <td>9.8</td>\n",
              "      <td>5</td>\n",
              "    </tr>\n",
              "    <tr>\n",
              "      <th>3</th>\n",
              "      <td>11.2</td>\n",
              "      <td>0.28</td>\n",
              "      <td>0.56</td>\n",
              "      <td>1.9</td>\n",
              "      <td>0.075</td>\n",
              "      <td>17.0</td>\n",
              "      <td>60.0</td>\n",
              "      <td>0.9980</td>\n",
              "      <td>3.16</td>\n",
              "      <td>0.58</td>\n",
              "      <td>9.8</td>\n",
              "      <td>6</td>\n",
              "    </tr>\n",
              "    <tr>\n",
              "      <th>4</th>\n",
              "      <td>7.4</td>\n",
              "      <td>0.70</td>\n",
              "      <td>0.00</td>\n",
              "      <td>1.9</td>\n",
              "      <td>0.076</td>\n",
              "      <td>11.0</td>\n",
              "      <td>34.0</td>\n",
              "      <td>0.9978</td>\n",
              "      <td>3.51</td>\n",
              "      <td>0.56</td>\n",
              "      <td>9.4</td>\n",
              "      <td>5</td>\n",
              "    </tr>\n",
              "  </tbody>\n",
              "</table>\n",
              "</div>\n",
              "      <button class=\"colab-df-convert\" onclick=\"convertToInteractive('df-9ab4e5bf-9dbc-410c-82df-688aced6d462')\"\n",
              "              title=\"Convert this dataframe to an interactive table.\"\n",
              "              style=\"display:none;\">\n",
              "        \n",
              "  <svg xmlns=\"http://www.w3.org/2000/svg\" height=\"24px\"viewBox=\"0 0 24 24\"\n",
              "       width=\"24px\">\n",
              "    <path d=\"M0 0h24v24H0V0z\" fill=\"none\"/>\n",
              "    <path d=\"M18.56 5.44l.94 2.06.94-2.06 2.06-.94-2.06-.94-.94-2.06-.94 2.06-2.06.94zm-11 1L8.5 8.5l.94-2.06 2.06-.94-2.06-.94L8.5 2.5l-.94 2.06-2.06.94zm10 10l.94 2.06.94-2.06 2.06-.94-2.06-.94-.94-2.06-.94 2.06-2.06.94z\"/><path d=\"M17.41 7.96l-1.37-1.37c-.4-.4-.92-.59-1.43-.59-.52 0-1.04.2-1.43.59L10.3 9.45l-7.72 7.72c-.78.78-.78 2.05 0 2.83L4 21.41c.39.39.9.59 1.41.59.51 0 1.02-.2 1.41-.59l7.78-7.78 2.81-2.81c.8-.78.8-2.07 0-2.86zM5.41 20L4 18.59l7.72-7.72 1.47 1.35L5.41 20z\"/>\n",
              "  </svg>\n",
              "      </button>\n",
              "      \n",
              "  <style>\n",
              "    .colab-df-container {\n",
              "      display:flex;\n",
              "      flex-wrap:wrap;\n",
              "      gap: 12px;\n",
              "    }\n",
              "\n",
              "    .colab-df-convert {\n",
              "      background-color: #E8F0FE;\n",
              "      border: none;\n",
              "      border-radius: 50%;\n",
              "      cursor: pointer;\n",
              "      display: none;\n",
              "      fill: #1967D2;\n",
              "      height: 32px;\n",
              "      padding: 0 0 0 0;\n",
              "      width: 32px;\n",
              "    }\n",
              "\n",
              "    .colab-df-convert:hover {\n",
              "      background-color: #E2EBFA;\n",
              "      box-shadow: 0px 1px 2px rgba(60, 64, 67, 0.3), 0px 1px 3px 1px rgba(60, 64, 67, 0.15);\n",
              "      fill: #174EA6;\n",
              "    }\n",
              "\n",
              "    [theme=dark] .colab-df-convert {\n",
              "      background-color: #3B4455;\n",
              "      fill: #D2E3FC;\n",
              "    }\n",
              "\n",
              "    [theme=dark] .colab-df-convert:hover {\n",
              "      background-color: #434B5C;\n",
              "      box-shadow: 0px 1px 3px 1px rgba(0, 0, 0, 0.15);\n",
              "      filter: drop-shadow(0px 1px 2px rgba(0, 0, 0, 0.3));\n",
              "      fill: #FFFFFF;\n",
              "    }\n",
              "  </style>\n",
              "\n",
              "      <script>\n",
              "        const buttonEl =\n",
              "          document.querySelector('#df-9ab4e5bf-9dbc-410c-82df-688aced6d462 button.colab-df-convert');\n",
              "        buttonEl.style.display =\n",
              "          google.colab.kernel.accessAllowed ? 'block' : 'none';\n",
              "\n",
              "        async function convertToInteractive(key) {\n",
              "          const element = document.querySelector('#df-9ab4e5bf-9dbc-410c-82df-688aced6d462');\n",
              "          const dataTable =\n",
              "            await google.colab.kernel.invokeFunction('convertToInteractive',\n",
              "                                                     [key], {});\n",
              "          if (!dataTable) return;\n",
              "\n",
              "          const docLinkHtml = 'Like what you see? Visit the ' +\n",
              "            '<a target=\"_blank\" href=https://colab.research.google.com/notebooks/data_table.ipynb>data table notebook</a>'\n",
              "            + ' to learn more about interactive tables.';\n",
              "          element.innerHTML = '';\n",
              "          dataTable['output_type'] = 'display_data';\n",
              "          await google.colab.output.renderOutput(dataTable, element);\n",
              "          const docLink = document.createElement('div');\n",
              "          docLink.innerHTML = docLinkHtml;\n",
              "          element.appendChild(docLink);\n",
              "        }\n",
              "      </script>\n",
              "    </div>\n",
              "  </div>\n",
              "  "
            ]
          },
          "metadata": {},
          "execution_count": 7
        }
      ]
    },
    {
      "cell_type": "markdown",
      "source": [
        "1.Оцените качество по метрике accuracy для классификаторов:\n",
        "\n",
        "DecisionTreeClassifier\n",
        "\n",
        "BaggingClassifier со 100 деревьями\n",
        "\n",
        "RandomForestClassifier со 100 деревьями\n",
        "\n",
        "Сравните результаты и напишите какой вывод можно сделать."
      ],
      "metadata": {
        "datalore": {
          "type": "MD",
          "hide_input_from_viewers": false,
          "hide_output_from_viewers": false
        },
        "id": "L7PX-lG5cwpX"
      }
    },
    {
      "cell_type": "code",
      "source": [
        "X= data.iloc[:,:-1]\n",
        "y = data.iloc[:,-1:]"
      ],
      "execution_count": 8,
      "outputs": [],
      "metadata": {
        "datalore": {
          "type": "CODE",
          "hide_input_from_viewers": false,
          "hide_output_from_viewers": false
        },
        "id": "u6h5RtNicwpY"
      }
    },
    {
      "cell_type": "code",
      "source": [
        "%%time\n",
        "model = DecisionTreeClassifier()\n",
        "print('DecisionTreeClassifier accuracy',  cross_val_score(model, X, y, cv=10,scoring = 'accuracy').mean())"
      ],
      "execution_count": 9,
      "outputs": [
        {
          "output_type": "stream",
          "name": "stdout",
          "text": [
            "DecisionTreeClassifier accuracy 0.47279874213836476\n",
            "CPU times: user 162 ms, sys: 0 ns, total: 162 ms\n",
            "Wall time: 166 ms\n"
          ]
        }
      ],
      "metadata": {
        "datalore": {
          "type": "CODE",
          "hide_input_from_viewers": false,
          "hide_output_from_viewers": false
        },
        "colab": {
          "base_uri": "https://localhost:8080/"
        },
        "id": "MrmZw-NhcwpY",
        "outputId": "a54106a6-28fd-4e14-fde6-1db539ac2780"
      }
    },
    {
      "cell_type": "code",
      "source": [
        "%%time\n",
        "model = BaggingClassifier(n_estimators=100)\n",
        "print('BaggingClassifier accuracy',  cross_val_score(model, X, y, cv=10,scoring = 'accuracy').mean())"
      ],
      "execution_count": 10,
      "outputs": [
        {
          "output_type": "stream",
          "name": "stdout",
          "text": [
            "BaggingClassifier accuracy 0.5553459119496855\n",
            "CPU times: user 8.59 s, sys: 23.3 ms, total: 8.62 s\n",
            "Wall time: 8.61 s\n"
          ]
        }
      ],
      "metadata": {
        "datalore": {
          "type": "CODE",
          "hide_input_from_viewers": false,
          "hide_output_from_viewers": false
        },
        "colab": {
          "base_uri": "https://localhost:8080/"
        },
        "id": "n_h7nUe9cwpZ",
        "outputId": "c4d4b020-e1de-413d-c0fe-2346c4e4920f"
      }
    },
    {
      "cell_type": "code",
      "source": [
        "%%time\n",
        "model = RandomForestClassifier(n_estimators=100)\n",
        "print('RandomForestClassifier accuracy',  cross_val_score(model, X, y, cv=10,scoring = 'accuracy').mean())"
      ],
      "execution_count": 12,
      "outputs": [
        {
          "output_type": "stream",
          "name": "stdout",
          "text": [
            "RandomForestClassifier accuracy 0.5672248427672956\n",
            "CPU times: user 3.85 s, sys: 26.7 ms, total: 3.88 s\n",
            "Wall time: 4.35 s\n"
          ]
        }
      ],
      "metadata": {
        "datalore": {
          "type": "CODE",
          "hide_input_from_viewers": false,
          "hide_output_from_viewers": false
        },
        "colab": {
          "base_uri": "https://localhost:8080/"
        },
        "id": "CaEMtFS-cwpa",
        "outputId": "b572502b-e493-4cf3-9552-76ab5603c658"
      }
    },
    {
      "cell_type": "markdown",
      "source": [
        "RandomForestClassifier показал лучший результат Accuracy с количеством estimators=100"
      ],
      "metadata": {
        "datalore": {
          "type": "MD",
          "hide_input_from_viewers": false,
          "hide_output_from_viewers": false
        },
        "id": "1BJ8BFsacwpb"
      }
    },
    {
      "cell_type": "markdown",
      "source": [
        "2.Разделите выборку на обучающую и тестовую в отношении 70%/30%"
      ],
      "metadata": {
        "datalore": {
          "type": "MD",
          "hide_input_from_viewers": false,
          "hide_output_from_viewers": false
        },
        "id": "zqoJqFBqcwpc"
      }
    },
    {
      "cell_type": "code",
      "source": [
        "from sklearn.model_selection import train_test_split\n",
        "X_train, X_test, y_train, y_test = train_test_split(X, y, test_size=0.3\n",
        "                                                    , random_state=123)"
      ],
      "execution_count": 13,
      "outputs": [],
      "metadata": {
        "datalore": {
          "type": "CODE",
          "hide_input_from_viewers": false,
          "hide_output_from_viewers": false
        },
        "id": "sGc2StKpcwpc"
      }
    },
    {
      "cell_type": "markdown",
      "source": [
        "3.Посчитайте качество на тестовой выборке по метрике accuracy для классификатора RandomForestClassifier, используя значения деревьев:\n",
        "    \n",
        "10, 50, 100, 200, далее с шагом 200 до 5000 деревьев.\n",
        "Постройте график зависимости качества от числа деревьев.\n"
      ],
      "metadata": {
        "datalore": {
          "type": "MD",
          "hide_input_from_viewers": false,
          "hide_output_from_viewers": false
        },
        "id": "oHBHnCQfcwpd"
      }
    },
    {
      "cell_type": "code",
      "source": [
        "%%time\n",
        "tree = [10, 50, 100] +  list(np.linspace(200,5000,25).astype('int'))\n",
        "\n",
        "results = {}\n",
        "for est in tree:\n",
        "    model = RandomForestClassifier(n_estimators=est, random_state=123, n_jobs=-1).fit(X_train, y_train)\n",
        "    y_pred = model.predict(X_test)\n",
        "    results[est] = accuracy_score(y_test, y_pred)\n",
        "results"
      ],
      "execution_count": 9,
      "outputs": [
        {
          "output_type": "stream",
          "name": "stdout",
          "text": [
            "CPU times: user 4min 48s, sys: 24 s, total: 5min 12s\n",
            "Wall time: 3min 33s\n"
          ]
        }
      ],
      "metadata": {
        "datalore": {
          "type": "CODE",
          "hide_input_from_viewers": false,
          "hide_output_from_viewers": false
        },
        "colab": {
          "base_uri": "https://localhost:8080/"
        },
        "id": "lXQbx2xjcwpe",
        "outputId": "ece8b8ad-8d1e-4e84-9a0a-8f45ebd81ea7"
      }
    },
    {
      "cell_type": "code",
      "source": [
        "b = pd.DataFrame.from_dict(results, orient='index', columns=['accuracy']).reset_index()\n",
        "b"
      ],
      "metadata": {
        "colab": {
          "base_uri": "https://localhost:8080/",
          "height": 927
        },
        "id": "G40zWpfveOXK",
        "outputId": "4588b41b-b9bf-47c4-8b1d-5ccf8b6b190a"
      },
      "execution_count": 43,
      "outputs": [
        {
          "output_type": "execute_result",
          "data": {
            "text/plain": [
              "    index  accuracy\n",
              "0      10  0.662500\n",
              "1      50  0.658333\n",
              "2     100  0.650000\n",
              "3     200  0.662500\n",
              "4     400  0.666667\n",
              "5     600  0.658333\n",
              "6     800  0.654167\n",
              "7    1000  0.656250\n",
              "8    1200  0.658333\n",
              "9    1400  0.660417\n",
              "10   1600  0.664583\n",
              "11   1800  0.662500\n",
              "12   2000  0.662500\n",
              "13   2200  0.656250\n",
              "14   2400  0.654167\n",
              "15   2600  0.654167\n",
              "16   2800  0.656250\n",
              "17   3000  0.656250\n",
              "18   3200  0.658333\n",
              "19   3400  0.656250\n",
              "20   3600  0.656250\n",
              "21   3800  0.654167\n",
              "22   4000  0.654167\n",
              "23   4200  0.654167\n",
              "24   4400  0.654167\n",
              "25   4600  0.652083\n",
              "26   4800  0.654167\n",
              "27   5000  0.654167"
            ],
            "text/html": [
              "\n",
              "  <div id=\"df-765f8c3d-f6d7-42d0-903c-48da6231b84b\">\n",
              "    <div class=\"colab-df-container\">\n",
              "      <div>\n",
              "<style scoped>\n",
              "    .dataframe tbody tr th:only-of-type {\n",
              "        vertical-align: middle;\n",
              "    }\n",
              "\n",
              "    .dataframe tbody tr th {\n",
              "        vertical-align: top;\n",
              "    }\n",
              "\n",
              "    .dataframe thead th {\n",
              "        text-align: right;\n",
              "    }\n",
              "</style>\n",
              "<table border=\"1\" class=\"dataframe\">\n",
              "  <thead>\n",
              "    <tr style=\"text-align: right;\">\n",
              "      <th></th>\n",
              "      <th>index</th>\n",
              "      <th>accuracy</th>\n",
              "    </tr>\n",
              "  </thead>\n",
              "  <tbody>\n",
              "    <tr>\n",
              "      <th>0</th>\n",
              "      <td>10</td>\n",
              "      <td>0.662500</td>\n",
              "    </tr>\n",
              "    <tr>\n",
              "      <th>1</th>\n",
              "      <td>50</td>\n",
              "      <td>0.658333</td>\n",
              "    </tr>\n",
              "    <tr>\n",
              "      <th>2</th>\n",
              "      <td>100</td>\n",
              "      <td>0.650000</td>\n",
              "    </tr>\n",
              "    <tr>\n",
              "      <th>3</th>\n",
              "      <td>200</td>\n",
              "      <td>0.662500</td>\n",
              "    </tr>\n",
              "    <tr>\n",
              "      <th>4</th>\n",
              "      <td>400</td>\n",
              "      <td>0.666667</td>\n",
              "    </tr>\n",
              "    <tr>\n",
              "      <th>5</th>\n",
              "      <td>600</td>\n",
              "      <td>0.658333</td>\n",
              "    </tr>\n",
              "    <tr>\n",
              "      <th>6</th>\n",
              "      <td>800</td>\n",
              "      <td>0.654167</td>\n",
              "    </tr>\n",
              "    <tr>\n",
              "      <th>7</th>\n",
              "      <td>1000</td>\n",
              "      <td>0.656250</td>\n",
              "    </tr>\n",
              "    <tr>\n",
              "      <th>8</th>\n",
              "      <td>1200</td>\n",
              "      <td>0.658333</td>\n",
              "    </tr>\n",
              "    <tr>\n",
              "      <th>9</th>\n",
              "      <td>1400</td>\n",
              "      <td>0.660417</td>\n",
              "    </tr>\n",
              "    <tr>\n",
              "      <th>10</th>\n",
              "      <td>1600</td>\n",
              "      <td>0.664583</td>\n",
              "    </tr>\n",
              "    <tr>\n",
              "      <th>11</th>\n",
              "      <td>1800</td>\n",
              "      <td>0.662500</td>\n",
              "    </tr>\n",
              "    <tr>\n",
              "      <th>12</th>\n",
              "      <td>2000</td>\n",
              "      <td>0.662500</td>\n",
              "    </tr>\n",
              "    <tr>\n",
              "      <th>13</th>\n",
              "      <td>2200</td>\n",
              "      <td>0.656250</td>\n",
              "    </tr>\n",
              "    <tr>\n",
              "      <th>14</th>\n",
              "      <td>2400</td>\n",
              "      <td>0.654167</td>\n",
              "    </tr>\n",
              "    <tr>\n",
              "      <th>15</th>\n",
              "      <td>2600</td>\n",
              "      <td>0.654167</td>\n",
              "    </tr>\n",
              "    <tr>\n",
              "      <th>16</th>\n",
              "      <td>2800</td>\n",
              "      <td>0.656250</td>\n",
              "    </tr>\n",
              "    <tr>\n",
              "      <th>17</th>\n",
              "      <td>3000</td>\n",
              "      <td>0.656250</td>\n",
              "    </tr>\n",
              "    <tr>\n",
              "      <th>18</th>\n",
              "      <td>3200</td>\n",
              "      <td>0.658333</td>\n",
              "    </tr>\n",
              "    <tr>\n",
              "      <th>19</th>\n",
              "      <td>3400</td>\n",
              "      <td>0.656250</td>\n",
              "    </tr>\n",
              "    <tr>\n",
              "      <th>20</th>\n",
              "      <td>3600</td>\n",
              "      <td>0.656250</td>\n",
              "    </tr>\n",
              "    <tr>\n",
              "      <th>21</th>\n",
              "      <td>3800</td>\n",
              "      <td>0.654167</td>\n",
              "    </tr>\n",
              "    <tr>\n",
              "      <th>22</th>\n",
              "      <td>4000</td>\n",
              "      <td>0.654167</td>\n",
              "    </tr>\n",
              "    <tr>\n",
              "      <th>23</th>\n",
              "      <td>4200</td>\n",
              "      <td>0.654167</td>\n",
              "    </tr>\n",
              "    <tr>\n",
              "      <th>24</th>\n",
              "      <td>4400</td>\n",
              "      <td>0.654167</td>\n",
              "    </tr>\n",
              "    <tr>\n",
              "      <th>25</th>\n",
              "      <td>4600</td>\n",
              "      <td>0.652083</td>\n",
              "    </tr>\n",
              "    <tr>\n",
              "      <th>26</th>\n",
              "      <td>4800</td>\n",
              "      <td>0.654167</td>\n",
              "    </tr>\n",
              "    <tr>\n",
              "      <th>27</th>\n",
              "      <td>5000</td>\n",
              "      <td>0.654167</td>\n",
              "    </tr>\n",
              "  </tbody>\n",
              "</table>\n",
              "</div>\n",
              "      <button class=\"colab-df-convert\" onclick=\"convertToInteractive('df-765f8c3d-f6d7-42d0-903c-48da6231b84b')\"\n",
              "              title=\"Convert this dataframe to an interactive table.\"\n",
              "              style=\"display:none;\">\n",
              "        \n",
              "  <svg xmlns=\"http://www.w3.org/2000/svg\" height=\"24px\"viewBox=\"0 0 24 24\"\n",
              "       width=\"24px\">\n",
              "    <path d=\"M0 0h24v24H0V0z\" fill=\"none\"/>\n",
              "    <path d=\"M18.56 5.44l.94 2.06.94-2.06 2.06-.94-2.06-.94-.94-2.06-.94 2.06-2.06.94zm-11 1L8.5 8.5l.94-2.06 2.06-.94-2.06-.94L8.5 2.5l-.94 2.06-2.06.94zm10 10l.94 2.06.94-2.06 2.06-.94-2.06-.94-.94-2.06-.94 2.06-2.06.94z\"/><path d=\"M17.41 7.96l-1.37-1.37c-.4-.4-.92-.59-1.43-.59-.52 0-1.04.2-1.43.59L10.3 9.45l-7.72 7.72c-.78.78-.78 2.05 0 2.83L4 21.41c.39.39.9.59 1.41.59.51 0 1.02-.2 1.41-.59l7.78-7.78 2.81-2.81c.8-.78.8-2.07 0-2.86zM5.41 20L4 18.59l7.72-7.72 1.47 1.35L5.41 20z\"/>\n",
              "  </svg>\n",
              "      </button>\n",
              "      \n",
              "  <style>\n",
              "    .colab-df-container {\n",
              "      display:flex;\n",
              "      flex-wrap:wrap;\n",
              "      gap: 12px;\n",
              "    }\n",
              "\n",
              "    .colab-df-convert {\n",
              "      background-color: #E8F0FE;\n",
              "      border: none;\n",
              "      border-radius: 50%;\n",
              "      cursor: pointer;\n",
              "      display: none;\n",
              "      fill: #1967D2;\n",
              "      height: 32px;\n",
              "      padding: 0 0 0 0;\n",
              "      width: 32px;\n",
              "    }\n",
              "\n",
              "    .colab-df-convert:hover {\n",
              "      background-color: #E2EBFA;\n",
              "      box-shadow: 0px 1px 2px rgba(60, 64, 67, 0.3), 0px 1px 3px 1px rgba(60, 64, 67, 0.15);\n",
              "      fill: #174EA6;\n",
              "    }\n",
              "\n",
              "    [theme=dark] .colab-df-convert {\n",
              "      background-color: #3B4455;\n",
              "      fill: #D2E3FC;\n",
              "    }\n",
              "\n",
              "    [theme=dark] .colab-df-convert:hover {\n",
              "      background-color: #434B5C;\n",
              "      box-shadow: 0px 1px 3px 1px rgba(0, 0, 0, 0.15);\n",
              "      filter: drop-shadow(0px 1px 2px rgba(0, 0, 0, 0.3));\n",
              "      fill: #FFFFFF;\n",
              "    }\n",
              "  </style>\n",
              "\n",
              "      <script>\n",
              "        const buttonEl =\n",
              "          document.querySelector('#df-765f8c3d-f6d7-42d0-903c-48da6231b84b button.colab-df-convert');\n",
              "        buttonEl.style.display =\n",
              "          google.colab.kernel.accessAllowed ? 'block' : 'none';\n",
              "\n",
              "        async function convertToInteractive(key) {\n",
              "          const element = document.querySelector('#df-765f8c3d-f6d7-42d0-903c-48da6231b84b');\n",
              "          const dataTable =\n",
              "            await google.colab.kernel.invokeFunction('convertToInteractive',\n",
              "                                                     [key], {});\n",
              "          if (!dataTable) return;\n",
              "\n",
              "          const docLinkHtml = 'Like what you see? Visit the ' +\n",
              "            '<a target=\"_blank\" href=https://colab.research.google.com/notebooks/data_table.ipynb>data table notebook</a>'\n",
              "            + ' to learn more about interactive tables.';\n",
              "          element.innerHTML = '';\n",
              "          dataTable['output_type'] = 'display_data';\n",
              "          await google.colab.output.renderOutput(dataTable, element);\n",
              "          const docLink = document.createElement('div');\n",
              "          docLink.innerHTML = docLinkHtml;\n",
              "          element.appendChild(docLink);\n",
              "        }\n",
              "      </script>\n",
              "    </div>\n",
              "  </div>\n",
              "  "
            ]
          },
          "metadata": {},
          "execution_count": 43
        }
      ]
    },
    {
      "cell_type": "code",
      "source": [
        "plt.plot(b['index'],b['accuracy'])\n",
        "plt.xlabel('Количество деревьев', size=15)\n",
        "plt.ylabel('accuracy', size=15)\n",
        "plt.show()"
      ],
      "execution_count": 45,
      "outputs": [
        {
          "output_type": "display_data",
          "data": {
            "text/plain": [
              "<Figure size 432x288 with 1 Axes>"
            ],
            "image/png": "[encoded data removed]"
          },
          "metadata": {
            "needs_background": "light"
          }
        }
      ],
      "metadata": {
        "datalore": {
          "type": "CODE",
          "hide_input_from_viewers": false,
          "hide_output_from_viewers": false
        },
        "colab": {
          "base_uri": "https://localhost:8080/",
          "height": 288
        },
        "id": "uNZvWHZ6cwpf",
        "outputId": "fafdf4c3-76f7-491c-a7e7-f9718f485e2f"
      }
    },
    {
      "cell_type": "markdown",
      "source": [
        "4.Обучите реализации градиентного бустинга с параметрами по умолчанию из библиотек sklearn и xgboost. Сравните значение метрики accuracy по cross_val_score"
      ],
      "metadata": {
        "datalore": {
          "type": "MD",
          "hide_input_from_viewers": false,
          "hide_output_from_viewers": false
        },
        "id": "v_Th6AQscwpf"
      }
    },
    {
      "cell_type": "code",
      "source": [
        "from sklearn.ensemble import GradientBoostingClassifier\n",
        "model = GradientBoostingClassifier().fit(X_train, y_train)\n",
        "print('accuracy',  cross_val_score(model, X_test, y_test, cv=10,scoring = 'accuracy').mean())"
      ],
      "execution_count": 14,
      "outputs": [
        {
          "output_type": "stream",
          "name": "stdout",
          "text": [
            "accuracy 0.5708333333333334\n"
          ]
        }
      ],
      "metadata": {
        "datalore": {
          "type": "CODE",
          "hide_input_from_viewers": false,
          "hide_output_from_viewers": false
        },
        "colab": {
          "base_uri": "https://localhost:8080/"
        },
        "id": "PdwiCbwTcwpg",
        "outputId": "1ac484c6-103b-403f-8a8b-30734420ec57"
      }
    },
    {
      "cell_type": "code",
      "source": [
        "from xgboost import XGBClassifier\n",
        "clf = XGBClassifier(verbosity=0).fit(X_train, y_train)\n",
        "print ('accuracy', cross_val_score(clf, X_test,y_test,cv=10,scoring = 'accuracy').mean())"
      ],
      "execution_count": 16,
      "outputs": [
        {
          "output_type": "stream",
          "name": "stdout",
          "text": [
            "accuracy 0.6104166666666667\n"
          ]
        }
      ],
      "metadata": {
        "datalore": {
          "type": "CODE",
          "hide_input_from_viewers": false,
          "hide_output_from_viewers": false
        },
        "colab": {
          "base_uri": "https://localhost:8080/"
        },
        "id": "ec2cAO-Jcwpg",
        "outputId": "1bc9dc62-7f98-40b2-a545-84bd280e2fb0"
      }
    },
    {
      "cell_type": "markdown",
      "source": [
        "С параметрами по умолчанию XGBClassifier показал результат лучше чем GradientBoostingClassifier"
      ],
      "metadata": {
        "datalore": {
          "type": "MD",
          "hide_input_from_viewers": false,
          "hide_output_from_viewers": false
        },
        "id": "qiTVZVo0cwph"
      }
    },
    {
      "cell_type": "markdown",
      "source": [
        "5.Подберите оптимальные параметры этих алгоритмов с помощью GridSearchCV(cv=3).\n",
        "Параметры для оптимизации:\n",
        "\n",
        "оптимизируемый функционал\n",
        "\n",
        "скорость обучения\n",
        "\n",
        "количество деревьев\n",
        "\n",
        "глубина деревьев\n",
        "\n",
        "Сравните значение метрики accuracy и скорость работы. Выведите лучшие параметры алгоритмов."
      ],
      "metadata": {
        "datalore": {
          "type": "MD",
          "hide_input_from_viewers": false,
          "hide_output_from_viewers": false
        },
        "id": "r4WNhoGycwph"
      }
    },
    {
      "cell_type": "code",
      "source": [
        "param_dist = {\n",
        "        'n_estimators':range(10,40,5),\n",
        "        'max_depth':range(2,6,1),\n",
        "        'learning_rate':np.linspace(0.01,2,10),\n",
        "        }"
      ],
      "execution_count": 17,
      "outputs": [],
      "metadata": {
        "datalore": {
          "type": "CODE",
          "hide_input_from_viewers": false,
          "hide_output_from_viewers": false
        },
        "id": "bVqS-h02cwpi"
      }
    },
    {
      "cell_type": "code",
      "source": [
        "%%time\n",
        "model_gb = GradientBoostingClassifier()\n",
        "grid = GridSearchCV(model_gb, param_dist, scoring='accuracy', n_jobs=-1, cv=3)\n",
        "fit_model = grid.fit(X_train, y_train)\n",
        "print(\"Accuracy:\", fit_model.score(X_test, y_test))\n",
        "print(grid.best_params_)"
      ],
      "execution_count": 18,
      "outputs": [
        {
          "output_type": "stream",
          "name": "stdout",
          "text": [
            "Accuracy: 0.6\n",
            "{'learning_rate': 0.45222222222222225, 'max_depth': 3, 'n_estimators': 30}\n",
            "CPU times: user 5.19 s, sys: 247 ms, total: 5.44 s\n",
            "Wall time: 3min 21s\n"
          ]
        }
      ],
      "metadata": {
        "datalore": {
          "type": "CODE",
          "hide_input_from_viewers": false,
          "hide_output_from_viewers": false
        },
        "colab": {
          "base_uri": "https://localhost:8080/"
        },
        "id": "SdFX0tcccwpi",
        "outputId": "fcdcaadc-e161-42af-8fce-96faad9e172f"
      }
    },
    {
      "cell_type": "code",
      "source": [
        "%%time\n",
        "model_XGB = XGBClassifier(verbosity=0)\n",
        "grid = GridSearchCV(model_XGB, param_dist, scoring='accuracy', n_jobs=-1, cv=3)\n",
        "fit_model = grid.fit(X_train, y_train)\n",
        "print(\"Accuracy:\", fit_model.score(X_test, y_test))\n",
        "print(grid.best_params_)"
      ],
      "execution_count": 19,
      "outputs": [
        {
          "output_type": "stream",
          "name": "stdout",
          "text": [
            "Accuracy: 0.65\n",
            "{'learning_rate': 0.8944444444444445, 'max_depth': 5, 'n_estimators': 35}\n",
            "CPU times: user 2.65 s, sys: 85.3 ms, total: 2.73 s\n",
            "Wall time: 52 s\n"
          ]
        }
      ],
      "metadata": {
        "datalore": {
          "type": "CODE",
          "hide_input_from_viewers": false,
          "hide_output_from_viewers": false
        },
        "colab": {
          "base_uri": "https://localhost:8080/"
        },
        "id": "K2JmyRMacwpi",
        "outputId": "15b86f68-fad4-4fa2-cde6-b1048b755edf"
      }
    },
    {
      "cell_type": "markdown",
      "source": [
        "XGBClassifier дал лучше результат метрики Accuracy чем GradientBoostingClassifier"
      ],
      "metadata": {
        "datalore": {
          "type": "MD",
          "hide_input_from_viewers": false,
          "hide_output_from_viewers": false
        },
        "id": "gxI15_Lgcwpj"
      }
    },
    {
      "cell_type": "markdown",
      "source": [
        "6.Обучите реализации градиентного бустинга с параметрами по умолчанию из библиотек lightgbm и catboost. Сравните значение метрики accuracy по cross_val_score по всем четырем реализациям."
      ],
      "metadata": {
        "datalore": {
          "type": "MD",
          "hide_input_from_viewers": false,
          "hide_output_from_viewers": false
        },
        "id": "1FZnmhxAcwpj"
      }
    },
    {
      "cell_type": "code",
      "source": [
        "!pip install catboost"
      ],
      "metadata": {
        "colab": {
          "base_uri": "https://localhost:8080/"
        },
        "id": "FfHOeSZGXAOL",
        "outputId": "6ac8a189-deef-4d61-8401-05790887bdcc"
      },
      "execution_count": 23,
      "outputs": [
        {
          "output_type": "stream",
          "name": "stdout",
          "text": [
            "Looking in indexes: https://pypi.org/simple, https://us-python.pkg.dev/colab-wheels/public/simple/\n",
            "Collecting catboost\n",
            "  Downloading catboost-1.0.6-cp37-none-manylinux1_x86_64.whl (76.6 MB)\n",
            "\u001b[K     |████████████████████████████████| 76.6 MB 124 kB/s \n",
            "\u001b[?25hRequirement already satisfied: pandas>=0.24.0 in /usr/local/lib/python3.7/dist-packages (from catboost) (1.3.5)\n",
            "Requirement already satisfied: scipy in /usr/local/lib/python3.7/dist-packages (from catboost) (1.4.1)\n",
            "Requirement already satisfied: six in /usr/local/lib/python3.7/dist-packages (from catboost) (1.15.0)\n",
            "Requirement already satisfied: numpy>=1.16.0 in /usr/local/lib/python3.7/dist-packages (from catboost) (1.21.6)\n",
            "Requirement already satisfied: matplotlib in /usr/local/lib/python3.7/dist-packages (from catboost) (3.2.2)\n",
            "Requirement already satisfied: graphviz in /usr/local/lib/python3.7/dist-packages (from catboost) (0.10.1)\n",
            "Requirement already satisfied: plotly in /usr/local/lib/python3.7/dist-packages (from catboost) (5.5.0)\n",
            "Requirement already satisfied: python-dateutil>=2.7.3 in /usr/local/lib/python3.7/dist-packages (from pandas>=0.24.0->catboost) (2.8.2)\n",
            "Requirement already satisfied: pytz>=2017.3 in /usr/local/lib/python3.7/dist-packages (from pandas>=0.24.0->catboost) (2022.1)\n",
            "Requirement already satisfied: kiwisolver>=1.0.1 in /usr/local/lib/python3.7/dist-packages (from matplotlib->catboost) (1.4.3)\n",
            "Requirement already satisfied: pyparsing!=2.0.4,!=2.1.2,!=2.1.6,>=2.0.1 in /usr/local/lib/python3.7/dist-packages (from matplotlib->catboost) (3.0.9)\n",
            "Requirement already satisfied: cycler>=0.10 in /usr/local/lib/python3.7/dist-packages (from matplotlib->catboost) (0.11.0)\n",
            "Requirement already satisfied: typing-extensions in /usr/local/lib/python3.7/dist-packages (from kiwisolver>=1.0.1->matplotlib->catboost) (4.1.1)\n",
            "Requirement already satisfied: tenacity>=6.2.0 in /usr/local/lib/python3.7/dist-packages (from plotly->catboost) (8.0.1)\n",
            "Installing collected packages: catboost\n",
            "Successfully installed catboost-1.0.6\n"
          ]
        }
      ]
    },
    {
      "cell_type": "code",
      "source": [
        "%%time\n",
        "from catboost import CatBoostClassifier\n",
        "model_catbust = CatBoostClassifier( verbose=0).fit(X_train, y_train)\n",
        "print('accuracy',  cross_val_score(model_catbust, X_test, y_test, cv=10,scoring = 'accuracy').mean())"
      ],
      "execution_count": 24,
      "outputs": [
        {
          "output_type": "stream",
          "name": "stdout",
          "text": [
            "accuracy 0.5999999999999999\n",
            "CPU times: user 1min 35s, sys: 3.22 s, total: 1min 38s\n",
            "Wall time: 52.7 s\n"
          ]
        }
      ],
      "metadata": {
        "datalore": {
          "type": "CODE",
          "hide_input_from_viewers": false,
          "hide_output_from_viewers": false
        },
        "colab": {
          "base_uri": "https://localhost:8080/"
        },
        "id": "VHzEGrTRcwpk",
        "outputId": "675d6ba2-1903-40dc-db8a-e4446ab9db6f"
      }
    },
    {
      "cell_type": "code",
      "source": [
        "%%time\n",
        "from lightgbm import LGBMClassifier\n",
        "model_lgb = LGBMClassifier().fit(X_train, y_train)\n",
        "print('accuracy',  cross_val_score(model_lgb, X_test, y_test, cv=10,scoring = 'accuracy').mean())"
      ],
      "execution_count": 25,
      "outputs": [
        {
          "output_type": "stream",
          "name": "stdout",
          "text": [
            "accuracy 0.5958333333333334\n",
            "CPU times: user 2.37 s, sys: 171 ms, total: 2.54 s\n",
            "Wall time: 2.57 s\n"
          ]
        }
      ],
      "metadata": {
        "datalore": {
          "type": "CODE",
          "hide_input_from_viewers": false,
          "hide_output_from_viewers": false
        },
        "colab": {
          "base_uri": "https://localhost:8080/"
        },
        "id": "IJ9KytfFcwpk",
        "outputId": "318a504f-e1e6-4ccc-bc5f-8dccacacc05f"
      }
    },
    {
      "cell_type": "markdown",
      "source": [
        "LGBMClassifier, CatBoostClassifier, XGBClassifier, GradientBoostingClassifier с параметрами по умолчанию показали примерно одинаковые значения метрики accuracy = 0,57-0,61"
      ],
      "metadata": {
        "datalore": {
          "type": "MD",
          "hide_input_from_viewers": false,
          "hide_output_from_viewers": false
        },
        "id": "NbwoyeFBcwpk"
      }
    },
    {
      "cell_type": "markdown",
      "source": [
        "7.Подберите оптимальные параметры для алгоритмов градиентного бустинга из библиотек lightgbm и catboost с теми же условиями. Выведите лучшие параметры алгоритмов.\n",
        "Сравните значение метрики accuracy и скорость по этим четырем реализациям."
      ],
      "metadata": {
        "datalore": {
          "type": "MD",
          "hide_input_from_viewers": false,
          "hide_output_from_viewers": false
        },
        "id": "6VfFCGIacwpk"
      }
    },
    {
      "cell_type": "code",
      "source": [
        "%%time\n",
        "grid = GridSearchCV(model_catbust, param_dist, scoring='accuracy', n_jobs=-1, cv=3)\n",
        "fit_model = grid.fit(X_train, y_train)\n",
        "print(\"CatBoostClassifier Accuracy:\", fit_model.score(X_test, y_test))\n",
        "print(grid.best_params_)"
      ],
      "execution_count": 26,
      "outputs": [
        {
          "output_type": "stream",
          "name": "stdout",
          "text": [
            "CatBoostClassifier Accuracy: 0.5979166666666667\n",
            "{'learning_rate': 0.23111111111111113, 'max_depth': 5, 'n_estimators': 35}\n",
            "CPU times: user 2.63 s, sys: 124 ms, total: 2.75 s\n",
            "Wall time: 60 s\n"
          ]
        }
      ],
      "metadata": {
        "datalore": {
          "type": "CODE",
          "hide_input_from_viewers": false,
          "hide_output_from_viewers": false
        },
        "colab": {
          "base_uri": "https://localhost:8080/"
        },
        "id": "ndzBXNl_cwpk",
        "outputId": "5d711726-d60e-4af4-f5ff-37fbb0136b9e"
      }
    },
    {
      "cell_type": "code",
      "source": [
        "%%time\n",
        "grid = GridSearchCV(model_lgb, param_dist, scoring='accuracy', n_jobs=-1, cv=3)\n",
        "fit_model = grid.fit(X_train, y_train)\n",
        "print(\"LGBMClassifier Accuracy:\", fit_model.score(X_test, y_test))\n",
        "print(grid.best_params_)"
      ],
      "execution_count": 27,
      "outputs": [
        {
          "output_type": "stream",
          "name": "stdout",
          "text": [
            "LGBMClassifier Accuracy: 0.6270833333333333\n",
            "{'learning_rate': 0.23111111111111113, 'max_depth': 5, 'n_estimators': 30}\n",
            "CPU times: user 1.65 s, sys: 66.4 ms, total: 1.72 s\n",
            "Wall time: 20.5 s\n"
          ]
        }
      ],
      "metadata": {
        "datalore": {
          "type": "CODE",
          "hide_input_from_viewers": false,
          "hide_output_from_viewers": false
        },
        "colab": {
          "base_uri": "https://localhost:8080/"
        },
        "id": "JpWhWKANcwpl",
        "outputId": "eba427da-af2f-4342-ab16-f52da1b3d3a4"
      }
    },
    {
      "cell_type": "markdown",
      "source": [
        "При подборе оптимальных параметров методом GridSearchCV лучший показатель Accuracy показал \n",
        "XGBClassifier (Accuracy=0,65)"
      ],
      "metadata": {
        "datalore": {
          "type": "MD",
          "hide_input_from_viewers": false,
          "hide_output_from_viewers": false
        },
        "id": "ZmSDVEPlcwpl"
      }
    },
    {
      "cell_type": "markdown",
      "source": [
        "8.Подберите оптимальные параметры алгоритма из библиотеки xgbost с помощью [hyperopt](https://github.com/hyperopt/hyperopt) . Параметры для оптимизации:\n",
        "\n",
        "оптимизируемый функционал\n",
        "\n",
        "скорость обучения\n",
        "\n",
        "количество деревьев\n",
        "\n",
        "глубина деревьев\n",
        "\n",
        "Сравните результат с поиском по сетке из sklearn. Выведите лучшие параметры алгоритма, найденные даным способом."
      ],
      "metadata": {
        "datalore": {
          "type": "MD",
          "hide_input_from_viewers": false,
          "hide_output_from_viewers": false
        },
        "id": "k8o0j7hNcwpl"
      }
    },
    {
      "cell_type": "code",
      "source": [
        "from hyperopt import fmin, tpe, STATUS_OK, STATUS_FAIL, Trials, hp\n",
        "import xgboost as xgb\n",
        "\n",
        "xgb_reg_params = {\n",
        "    'learning_rate':    hp.choice('learning_rate',    np.arange(0.05, 0.31, 0.05)),\n",
        "    'max_depth':        hp.choice('max_depth',        np.arange(5, 16, 1, dtype=int)),\n",
        "    'n_estimators':     hp.choice('n_estimators',    np.arange(5, 30))\n",
        "}\n",
        "\n",
        "xgb_fit_params = {\n",
        "    'eval_metric': 'mlogloss',\n",
        "    'verbose': False\n",
        "}\n",
        "xgb_para = dict()\n",
        "xgb_para['reg_params'] = xgb_reg_params\n",
        "xgb_para['fit_params'] = xgb_fit_params\n",
        "xgb_para['loss_func' ] = lambda y, pred:1 - accuracy_score(y, pred)\n",
        "\n",
        "class HPOpt(object):\n",
        "\n",
        "    def __init__(self, X_train, X_test, y_train, y_test):\n",
        "        self.X_train = X_train\n",
        "        self.X_test  = X_test\n",
        "        self.y_train = y_train\n",
        "        self.y_test  = y_test\n",
        "        self.result = 0\n",
        "\n",
        "    def process(self, fn_name, space, trials, algo, max_evals):\n",
        "        fn = getattr(self, fn_name)\n",
        "        try:\n",
        "            self.result = fmin(fn=fn, space=space, algo=algo, max_evals=max_evals, trials=trials)\n",
        "        except Exception as e:\n",
        "            return {'status': STATUS_FAIL,\n",
        "                    'exception': str(e)}\n",
        "        return self.result, trials\n",
        "\n",
        "    def xgb_reg(self, para):\n",
        "        reg =XGBClassifier(**para['reg_params'])\n",
        "        return self.train_reg(reg, para)\n",
        "\n",
        "\n",
        "    def train_reg(self, reg, para):\n",
        "        eval_set = [(self.X_train, self.y_train), (self.X_test, self.y_test)]\n",
        "        reg.fit(self.X_train, self.y_train, eval_set=eval_set, **para['fit_params'])\n",
        "        pred = reg.predict(self.X_test)\n",
        "        loss = para['loss_func'](self.y_test, pred)\n",
        "        return {'loss': loss, 'status': STATUS_OK}\n",
        "    \n",
        "    def return_result(self):\n",
        "        return self.result"
      ],
      "execution_count": 29,
      "outputs": [],
      "metadata": {
        "datalore": {
          "type": "CODE",
          "hide_input_from_viewers": false,
          "hide_output_from_viewers": false
        },
        "id": "2KEobjYdcwpm"
      }
    },
    {
      "cell_type": "code",
      "source": [
        "obj = HPOpt(X_train, X_test, y_train, y_test)\n",
        "xgb_opt = obj.process(fn_name='xgb_reg', space=xgb_para, trials=Trials(), algo=tpe.suggest, max_evals=500)"
      ],
      "execution_count": 30,
      "outputs": [
        {
          "output_type": "stream",
          "name": "stdout",
          "text": [
            "100%|██████████| 500/500 [02:25<00:00,  3.43it/s, best loss: 0.3354166666666667]\n"
          ]
        }
      ],
      "metadata": {
        "datalore": {
          "type": "CODE",
          "hide_input_from_viewers": false,
          "hide_output_from_viewers": false
        },
        "colab": {
          "base_uri": "https://localhost:8080/"
        },
        "id": "TKjtTkxwcwpm",
        "outputId": "849d2dbe-384f-4593-af7c-83f7e1dbe3b4"
      }
    },
    {
      "cell_type": "code",
      "source": [
        "print(obj.return_result())"
      ],
      "execution_count": 47,
      "outputs": [
        {
          "output_type": "stream",
          "name": "stdout",
          "text": [
            "{'learning_rate': 3, 'max_depth': 10, 'n_estimators': 24}\n"
          ]
        }
      ],
      "metadata": {
        "datalore": {
          "type": "CODE",
          "hide_input_from_viewers": false,
          "hide_output_from_viewers": false
        },
        "colab": {
          "base_uri": "https://localhost:8080/"
        },
        "id": "InCjOCoqcwpm",
        "outputId": "30dec6d9-7955-45f0-f8f7-ac3058f21cea"
      }
    },
    {
      "cell_type": "markdown",
      "source": [
        "9.Выведите качество по метрике accuracy стэкинга (StackingClassifier) 4-х алгоритмов с базовыми параметрами градиентного бустинга."
      ],
      "metadata": {
        "datalore": {
          "type": "MD",
          "hide_input_from_viewers": false,
          "hide_output_from_viewers": false
        },
        "id": "aMNpt8Rwcwpm"
      }
    },
    {
      "cell_type": "code",
      "source": [
        "\n",
        "from sklearn.ensemble import StackingClassifier\n",
        "\n",
        "estimators = [\n",
        "    ('GBC', GradientBoostingClassifier()),\n",
        "    ('XGB', XGBClassifier()),\n",
        "    ('CatBoost', CatBoostClassifier()),\n",
        "    ('LGBMClassifier', LGBMClassifier())\n",
        "\n",
        "]\n",
        "stacking = StackingClassifier(estimators=estimators, cv=3, n_jobs=-1)\n",
        "stacking.fit(X_train, y_train)\n",
        "y_pred = stacking.predict(X_test)\n",
        "print(\"Accuracy:\", accuracy_score(y_test, y_pred))"
      ],
      "execution_count": 31,
      "outputs": [
        {
          "output_type": "stream",
          "name": "stdout",
          "text": [
            "Accuracy: 0.6604166666666667\n"
          ]
        }
      ],
      "metadata": {
        "datalore": {
          "type": "CODE",
          "hide_input_from_viewers": false,
          "hide_output_from_viewers": false
        },
        "colab": {
          "base_uri": "https://localhost:8080/"
        },
        "id": "9HauYghqcwpn",
        "outputId": "4e69d2ce-4863-4120-eafc-2c07af774f23"
      }
    },
    {
      "cell_type": "markdown",
      "source": [
        "10.Выведите качество по метрике accuracy стэкинга 4-х алгоритмов с оптимальными параметрами градиентного бустинга. Сравните результаты с предыдущим шагом и напишите какой вывод можно из этого сделать."
      ],
      "metadata": {
        "datalore": {
          "type": "MD",
          "hide_input_from_viewers": false,
          "hide_output_from_viewers": false
        },
        "id": "TqmlulGfcwpn"
      }
    },
    {
      "cell_type": "code",
      "source": [
        "estimators_tuned = [\n",
        "    ('GBC', GradientBoostingClassifier(\n",
        "        learning_rate=0.45,\n",
        "        max_depth=3,\n",
        "        n_estimators=30)\n",
        "    ),\n",
        "    ('XGB', XGBClassifier(\n",
        "        learning_rate=0.89,\n",
        "        max_depth=5,\n",
        "        n_estimators=35)\n",
        "    ),\n",
        "    ('CatBoost', CatBoostClassifier(\n",
        "        learning_rate=0.23,\n",
        "        max_depth=5,\n",
        "        n_estimators=35)\n",
        "    ),\n",
        "    ('LGBMClassifier', LGBMClassifier(\n",
        "        learning_rate=0.23,\n",
        "        max_depth=5,\n",
        "        n_estimators=30)\n",
        "     )\n",
        "]\n",
        "stacking_tuned = StackingClassifier(estimators=estimators_tuned, cv=3, n_jobs=-1)\n",
        "stacking_tuned.fit(X_train, y_train)\n",
        "y_pred_tuned = stacking_tuned.predict(X_test)\n",
        "print(\"Accuracy:\", accuracy_score(y_test, y_pred_tuned))"
      ],
      "execution_count": 32,
      "outputs": [
        {
          "output_type": "stream",
          "name": "stdout",
          "text": [
            "Accuracy: 0.6625\n"
          ]
        }
      ],
      "metadata": {
        "datalore": {
          "type": "CODE",
          "hide_input_from_viewers": false,
          "hide_output_from_viewers": false
        },
        "colab": {
          "base_uri": "https://localhost:8080/"
        },
        "id": "w7gGoXvYcwpn",
        "outputId": "2239bfd2-b060-4423-ed68-e9de56357d58"
      }
    },
    {
      "cell_type": "markdown",
      "source": [
        "Стэкинг 4-х алгоритмов с оптимальными параметрами градиентного бустинга дает такое же значение метрики Accuracy как и с базовыми параметрами градиентного бустинга. С подбором параметров алгоритм работает дольше, значит в нашей задаче эффективнее использовать алгоритмы с базовыми параметрами."
      ],
      "metadata": {
        "id": "0KTKFMsmsEX8"
      }
    },
    {
      "cell_type": "code",
      "source": [
        ""
      ],
      "metadata": {
        "id": "tdOXLe8XSGT0"
      },
      "execution_count": null,
      "outputs": []
    }
  ],
  "metadata": {
    "datalore": {
      "version": 1,
      "computation_mode": "JUPYTER",
      "package_manager": "pip",
      "base_environment": "default",
      "packages": []
    },
    "colab": {
      "name": "ML_4_HW.ipynb",
      "provenance": []
    },
    "language_info": {
      "name": "python"
    },
    "kernelspec": {
      "name": "python3",
      "display_name": "Python 3"
    },
    "gpuClass": "standard"
  },
  "nbformat": 4,
  "nbformat_minor": 0
}