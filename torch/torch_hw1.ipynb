{
 "cells":[
  {
   "cell_type":"code",
   "source":[
    "import torch\n",
    "import torch.nn as nn"
   ],
   "execution_count":1,
   "outputs":[
    
   ],
   "metadata":{
    "datalore":{
     "type":"CODE",
     "hide_input_from_viewers":false,
     "hide_output_from_viewers":false
    }
   }
  },
  {
   "cell_type":"markdown",
   "source":[
    "# Написать на PyTorch forward и backward полносвязного слоя без использования autograd"
   ],
   "attachments":{
    
   },
   "metadata":{
    "datalore":{
     "type":"MD",
     "hide_input_from_viewers":false,
     "hide_output_from_viewers":false
    }
   }
  },
  {
   "cell_type":"code",
   "source":[
    "# Функция активации и ее производная\n",
    "def sigmoid (x):\n",
    "    return 1\/(1 + torch.exp(-x))\n",
    "\n",
    "def derivatives_sigmoid(x):\n",
    "    return x * (1 - x)"
   ],
   "execution_count":2,
   "outputs":[
    
   ],
   "metadata":{
    "datalore":{
     "type":"CODE",
     "hide_input_from_viewers":false,
     "hide_output_from_viewers":false
    }
   }
  },
  {
   "cell_type":"code",
   "source":[
    "class NN(nn.Module):\n",
    "    def __init__(self, input_dim: int, output_dim: int):\n",
    "        super().__init__()\n",
    "        self.linear = nn.Linear(in_features=input_dim, out_features=output_dim)\n",
    "        self.activation = sigmoid\n",
    "        self.saved_tensors = None\n",
    "\n",
    "    def forward(self, input_x):\n",
    "        self.saved_tensors = input_x\n",
    "        return self.activation(self.linear(input_x))\n",
    "\n",
    "    def backward(self, grad_output):\n",
    "        return grad_output * derivatives_sigmoid(self.saved_tensors)"
   ],
   "execution_count":3,
   "outputs":[
    
   ],
   "metadata":{
    "datalore":{
     "type":"CODE",
     "hide_input_from_viewers":false,
     "hide_output_from_viewers":false
    }
   }
  },
  {
   "cell_type":"markdown",
   "source":[
    "\n",
    "\n",
    "# Написать 1-2 адаптивных **оптимизатора**"
   ],
   "attachments":{
    
   },
   "metadata":{
    "datalore":{
     "type":"MD",
     "hide_input_from_viewers":false,
     "hide_output_from_viewers":false
    }
   }
  },
  {
   "cell_type":"code",
   "source":[
    "class AdaGrad:\n",
    "    def __init__(self, lr, model):\n",
    "        self.accumulated = torch.zeros_like(model)\n",
    "        self.lr = lr\n",
    "        self.adapt_lr = lr\n",
    "        self.model = model\n",
    "\n",
    "    def step(self, grad):\n",
    "        self.accumulated += grad**2\n",
    "        self.adapt_lr = self.lr \/ torch.sqrt(self.accumulated)\n",
    "        self.model -= self.adapt_lr * grad"
   ],
   "execution_count":4,
   "outputs":[
    
   ],
   "metadata":{
    "datalore":{
     "type":"CODE",
     "hide_input_from_viewers":false,
     "hide_output_from_viewers":false
    }
   }
  },
  {
   "cell_type":"code",
   "source":[
    "class SDGMomentum:\n",
    "    def __init__(self, momentum, lr, model):\n",
    "        self.momentum = momentum\n",
    "        self.lr = lr\n",
    "        self.velocity = torch.zeros_like(model)\n",
    "        self.model = model\n",
    "\n",
    "    def step(self, grad):\n",
    "        self.velocity = self.momentum * self.velocity - self.lr * grad\n",
    "        self.model += self.velocity"
   ],
   "execution_count":5,
   "outputs":[
    
   ],
   "metadata":{
    "datalore":{
     "type":"CODE",
     "hide_input_from_viewers":false,
     "hide_output_from_viewers":false
    }
   }
  },
  {
   "cell_type":"markdown",
   "source":[
    "# Решить задачу нахождения корней квадратного уравнения методом градиентного спуска"
   ],
   "attachments":{
    
   },
   "metadata":{
    "datalore":{
     "type":"MD",
     "hide_input_from_viewers":false,
     "hide_output_from_viewers":false
    }
   }
  },
  {
   "cell_type":"code",
   "source":[
    "def func(x):\n",
    "    return (3*x + 17)**2 \n",
    "def grad_f(x):\n",
    "    return 2 * (3 * x + 17) * 2 \n",
    "\n",
    "def solver(init_x, optimizer, max_iter=1000):\n",
    "    g = grad_f(init_x)\n",
    "    optim = optimizer\n",
    "    for i in range(max_iter):\n",
    "        optim.step(g)\n",
    "        g = grad_f(optim.model)\n",
    "    print(optim.model)\n",
    "    return optim.model"
   ],
   "execution_count":6,
   "outputs":[
    
   ],
   "metadata":{
    "datalore":{
     "type":"CODE",
     "hide_input_from_viewers":false,
     "hide_output_from_viewers":false
    }
   }
  },
  {
   "cell_type":"code",
   "source":[
    "x = torch.tensor(10.)\n",
    "_ = solver(init_x=x, optimizer=AdaGrad(lr=0.3, model=x), max_iter=10000)"
   ],
   "execution_count":7,
   "outputs":[
    {
     "name":"stdout",
     "text":[
      "tensor(-5.6665)\n"
     ],
     "output_type":"stream"
    }
   ],
   "metadata":{
    "datalore":{
     "type":"CODE",
     "hide_input_from_viewers":false,
     "hide_output_from_viewers":false
    }
   }
  },
  {
   "cell_type":"code",
   "source":[
    "x = torch.tensor(10.)\n",
    "_ = solver(init_x=x, optimizer=SDGMomentum(lr=0.01, momentum=0.95, model=x))"
   ],
   "execution_count":8,
   "outputs":[
    {
     "name":"stdout",
     "text":[
      "tensor(-5.6667)\n"
     ],
     "output_type":"stream"
    }
   ],
   "metadata":{
    "datalore":{
     "type":"CODE",
     "hide_input_from_viewers":false,
     "hide_output_from_viewers":false
    }
   }
  },
  {
   "cell_type":"code",
   "source":[
    "import numpy as np\n",
    "import matplotlib.pyplot as plt\n",
    "\n",
    "%matplotlib\n",
    "%matplotlib inline\n",
    "%config InlineBackend.figure_format = 'retina'"
   ],
   "execution_count":9,
   "outputs":[
    {
     "name":"stdout",
     "text":[
      "Using matplotlib backend: <object object at 0x7efd35c580f0>\n"
     ],
     "output_type":"stream"
    }
   ],
   "metadata":{
    "datalore":{
     "type":"CODE",
     "hide_input_from_viewers":false,
     "hide_output_from_viewers":false
    }
   }
  },
  {
   "cell_type":"code",
   "source":[
    "x = np.linspace(-11,0,200)\n",
    "y = (3*x + 17)**2 \n",
    "\n",
    "plt.plot(x, y)\n",
    "plt.show()"
   ],
   "execution_count":10,
   "outputs":[
    {
     "data":{
      "image\/png":"[encoded data removed]"
     },
     "metadata":{
      "image\/png":{
       "width":552,
       "height":414
      }
     },
     "output_type":"display_data"
    }
   ],
   "metadata":{
    "datalore":{
     "type":"CODE",
     "hide_input_from_viewers":false,
     "hide_output_from_viewers":false
    }
   }
  },
  {
   "cell_type":"code",
   "source":[
    
   ],
   "execution_count":null,
   "outputs":[
    
   ],
   "metadata":{
    "datalore":{
     "type":"CODE",
     "hide_input_from_viewers":false,
     "hide_output_from_viewers":false
    }
   }
  },
  {
   "cell_type":"code",
   "source":[
    
   ],
   "execution_count":null,
   "outputs":[
    
   ],
   "metadata":{
    "datalore":{
     "type":"CODE",
     "hide_input_from_viewers":false,
     "hide_output_from_viewers":false
    }
   }
  }
 ],
 "metadata":{
  "kernelspec":{
   "display_name":"Python",
   "language":"python",
   "name":"python"
  },
  "datalore":{
   "version":1,
   "computation_mode":"JUPYTER",
   "package_manager":"pip",
   "base_environment":"default",
   "packages":[
    
   ]
  }
 },
 "nbformat":4,
 "nbformat_minor":4
}