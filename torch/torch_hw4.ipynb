{
  "nbformat": 4,
  "nbformat_minor": 0,
  "metadata": {
    "colab": {
      "name": "torch_hw4.ipynb",
      "provenance": [],
      "collapsed_sections": []
    },
    "kernelspec": {
      "name": "python3",
      "display_name": "Python 3"
    },
    "language_info": {
      "name": "python"
    },
    "accelerator": "GPU",
    "gpuClass": "standard"
  },
  "cells": [
    {
      "cell_type": "code",
      "execution_count": null,
      "metadata": {
        "id": "l3J92ehoA83X"
      },
      "outputs": [],
      "source": [
        "\n",
        "import torch\n",
        "from torch.utils.data import Dataset\n",
        "from torch.nn.utils.rnn import pad_sequence\n",
        "import datetime\n",
        "import torch.nn as nn\n",
        "from torch.utils.data import DataLoader\n",
        "import pandas as pd"
      ]
    },
    {
      "cell_type": "code",
      "source": [
        "class DatasetSeq(Dataset):\n",
        "    def __init__(self, data_dir, train_lang='en'):\n",
        "\n",
        "        with open(data_dir + train_lang + '.train', 'r') as f:\n",
        "            train = f.read().split('\\n\\n')\n",
        "\n",
        "        # delete extra tag markup\n",
        "        train = [x for x in train if not '_ ' in x]\n",
        "\n",
        "        self.target_vocab = {}\n",
        "        self.word_vocab = {}\n",
        "        self.char_vocab = {}\n",
        "\n",
        "        self.encoded_sequences = []\n",
        "        self.encoded_targets = []\n",
        "        self.encoded_char_sequences = []\n",
        "        n_word = 1\n",
        "        n_target = 1\n",
        "        n_char = 1\n",
        "        for line in train:\n",
        "            sequence = []\n",
        "            target = []\n",
        "            chars = []\n",
        "            for item in line.split('\\n'):\n",
        "                if item != '':\n",
        "                    word, label = item.split(' ')\n",
        "\n",
        "                    if self.word_vocab.get(word) is None:\n",
        "                        self.word_vocab[word] = n_word\n",
        "                        n_word += 1\n",
        "                    if self.target_vocab.get(label) is None:\n",
        "                        self.target_vocab[label] = n_target\n",
        "                        n_target += 1\n",
        "                    for char in word:\n",
        "                        if self.char_vocab.get(char) is None:\n",
        "                            self.char_vocab[char] = n_char\n",
        "                            n_char += 1\n",
        "                    sequence.append(self.word_vocab[word])\n",
        "                    target.append(self.target_vocab[label])\n",
        "                    chars.append([self.char_vocab[char] for char in word])\n",
        "            self.encoded_sequences.append(sequence)\n",
        "            self.encoded_targets.append(target)\n",
        "            self.encoded_char_sequences.append(chars)\n",
        "\n",
        "    def __len__(self):\n",
        "        return len(self.encoded_sequences)\n",
        "\n",
        "    def __getitem__(self, index):\n",
        "        return {\n",
        "            'data': self.encoded_sequences[index], # [1, 2, 3, 4, 6] len=5\n",
        "            'char': self.encoded_char_sequences[index],# [[1,2,3], [4,5], [1,2], [2,6,5,4], []] len=5\n",
        "            'target': self.encoded_targets[index], #  (1)\n",
        "        }\n",
        "# seq1 = [1, 2, 3] -> [1, 2, 3, 0]\n",
        "# seq2 = [7, 5, 4, 2]\n",
        "\n",
        "def collate_fn(batch):\n",
        "    data = []\n",
        "    target = []\n",
        "    for item in batch:\n",
        "        data.append(torch.as_tensor(item['data']))\n",
        "        target.append(torch.as_tensor(item['target']))\n",
        "    data = pad_sequence(data, batch_first=True, padding_value=0)\n",
        "    target = pad_sequence(target, batch_first=True, padding_value=0)\n",
        "\n",
        "    return {'data': data, 'target': target}\n",
        "\n",
        "\n",
        "def collate_fn_char(input_data):\n",
        "    data = []\n",
        "    chars = []\n",
        "    targets = []\n",
        "    max_len = 0\n",
        "    for item in input_data:\n",
        "        if len(item['data']) > max_len:\n",
        "            max_len = len(item['data'])\n",
        "        data.append(torch.as_tensor(item['data']))\n",
        "        chars.append(item['char'])\n",
        "        targets.append(torch.as_tensor(item['target']))\n",
        "    chars_seq = [[torch.as_tensor([0]) for _ in range(len(input_data))] for _ in range(max_len)]\n",
        "    for j in range(len(input_data)):\n",
        "        for i in range(max_len):\n",
        "            if len(chars[j]) > i:\n",
        "                chars_seq[i][j] = torch.as_tensor(chars[j][i])\n",
        "    for j in range(max_len):\n",
        "        chars_seq[j] = pad_sequence(chars_seq[j], batch_first=True, padding_value=0)\n",
        "    data = pad_sequence(data, batch_first=True, padding_value=0)\n",
        "    targets = pad_sequence(targets, batch_first=True, padding_value=0)\n",
        "    return {'data': data, 'chars': chars_seq, 'target': targets}"
      ],
      "metadata": {
        "id": "TW3PT63KBKEj"
      },
      "execution_count": null,
      "outputs": []
    },
    {
      "cell_type": "code",
      "source": [
        "data_dir = ''\n",
        "train_lang = 'en'\n",
        "dataset = DatasetSeq(data_dir)"
      ],
      "metadata": {
        "id": "14ImQu1kBRz6"
      },
      "execution_count": null,
      "outputs": []
    },
    {
      "cell_type": "code",
      "source": [
        "vocab_len = len(dataset.word_vocab) + 1\n",
        "n_classes = len(dataset.target_vocab) + 1\n",
        "n_chars = len(dataset.char_vocab) + 1\n",
        "cuda_device = -1\n",
        "batch_size = 100\n",
        "device = f'cuda:{cuda_device}' if cuda_device != -1 else 'cpu'\n",
        "\n",
        "ds_item = dataset[500]\n",
        "#model\n",
        "decode_words = [k for k in dataset.word_vocab]\n",
        "print([decode_words[i] for i in ds_item['data']])\n",
        "\n",
        "           "
      ],
      "metadata": {
        "colab": {
          "base_uri": "https://localhost:8080/"
        },
        "id": "0tBdxH1bGX4w",
        "outputId": "ffbe0215-60fc-494d-dbc9-7edd207a09d1"
      },
      "execution_count": null,
      "outputs": [
        {
          "output_type": "stream",
          "name": "stdout",
          "text": [
            "['Judge', 'come', 'preacher', '1983', 'town', 'preacher', 'ruling', 'allowed', 'testify', 'they', 'respected', 'dismisses', 'CIA', 'detonated', 'then', 'pseudonym', 'cluster', 'respected', 'opening', 'the', 'closely', 'cross-examination', 'Mosul', 'come', 'Wilson', '2', 'prosecution', 'the', 'preacher', 'convince', 'busted', 'respected', 'mollifying', '[']\n"
          ]
        }
      ]
    },
    {
      "cell_type": "code",
      "source": [
        " class POS_predictor(nn.Module):\n",
        "    def __init__(self,\n",
        "                 vocab_size: int,\n",
        "                 emb_dim: int,\n",
        "                 hidden_dim: int,\n",
        "                 n_classes: int,\n",
        "                 ):\n",
        "        super().__init__()\n",
        "        self.emb = nn.Embedding(vocab_size, emb_dim)\n",
        "        self.gru_cell = nn.GRUCell(emb_dim, hidden_dim)\n",
        "        self.classifier = nn.Linear(hidden_dim, n_classes, bias=True)\n",
        "        self.hidden_dim = hidden_dim\n",
        "\n",
        "    def forward(self, x):  \n",
        "        b, t = x.size()\n",
        "        emb_x = self.emb(x) # B x T x V\n",
        "        hidden = torch.zeros((b, self.hidden_dim))\n",
        "        gru_out = []\n",
        "        for i in range(t):\n",
        "            hidden = self.gru_cell(emb_x[:, i, :], hidden) # B x Hid\n",
        "            gru_out.append(hidden.unsqueeze(1)) # B x 1 x Hid\n",
        "        gru_out = torch.cat(gru_out, dim=1) # B x T x Hid\n",
        "        pred = self.classifier(torch.dropout(gru_out, 0.1, self.training))\n",
        "\n",
        "        return pred"
      ],
      "metadata": {
        "id": "C-Oahza7IpyR"
      },
      "execution_count": null,
      "outputs": []
    },
    {
      "cell_type": "code",
      "source": [
        "%%time\n",
        "model = POS_predictor(vocab_len, 200, 512, n_classes)\n",
        "model.train()\n",
        "model = model.to(device)\n",
        "\n",
        "#optimizer\n",
        "optim = torch.optim.Adam(model.parameters(), lr=0.001)\n",
        "#lr scheduler\n",
        "\n",
        "\n",
        "#loss\n",
        "loss_func = nn.CrossEntropyLoss()\n",
        "#dataloder\n",
        "for epoch in range(10):\n",
        "    dataloader = DataLoader(\n",
        "        dataset=dataset,\n",
        "        collate_fn=collate_fn,\n",
        "        batch_size=batch_size,\n",
        "        shuffle=True,\n",
        "        drop_last=True,\n",
        "    )\n",
        "    for step, batch in enumerate(dataloader):\n",
        "        optim.zero_grad()\n",
        "        data = batch['data'].to(device)  # B x T\n",
        "        pred = model(data)\n",
        "        loss = loss_func(pred.view(-1, n_classes), batch['target'].view(-1).to(device))\n",
        "        loss.backward()\n",
        "        # if step % 5:\n",
        "        optim.step()\n",
        "\n",
        "        if step % 50:\n",
        "            print(loss)\n",
        "    print(epoch)"
      ],
      "metadata": {
        "colab": {
          "base_uri": "https://localhost:8080/"
        },
        "id": "dMqQlPxbBehI",
        "outputId": "bf7d860c-290b-4f1a-bc15-b694f993cc23"
      },
      "execution_count": null,
      "outputs": [
        {
          "output_type": "stream",
          "name": "stdout",
          "text": [
            "0\n",
            "1\n",
            "2\n",
            "3\n",
            "4\n",
            "5\n",
            "6\n",
            "7\n",
            "8\n",
            "9\n",
            "CPU times: user 33min 28s, sys: 53.3 s, total: 34min 22s\n",
            "Wall time: 34min 12s\n"
          ]
        }
      ]
    },
    {
      "cell_type": "code",
      "source": [
        "class POS_predictorV2(nn.Module):\n",
        "    def __init__(self,\n",
        "                 vocab_size: int,\n",
        "                 emb_dim: int,\n",
        "                 hidden_dim: int,\n",
        "                 n_classes: int,\n",
        "                 ):\n",
        "        super().__init__()\n",
        "        self.emb = nn.Embedding(vocab_size, emb_dim)\n",
        "        self.gru = nn.GRU(emb_dim, hidden_dim//2, batch_first=True, bidirectional=True)\n",
        "        self.classifier = nn.Linear(hidden_dim, n_classes, bias=True)\n",
        "\n",
        "    def forward(self, x): # B x T\n",
        "        emb_x = self.emb(x)  # B x T x V\n",
        "        gru_out, _ = self.gru(emb_x)\n",
        "        pred = self.classifier(torch.dropout(gru_out, 0.1, self.training))\n",
        "\n",
        "        return pred"
      ],
      "metadata": {
        "id": "3cJFIU_cMOUv"
      },
      "execution_count": null,
      "outputs": []
    },
    {
      "cell_type": "code",
      "source": [
        "%%time\n",
        "model = POS_predictorV2(vocab_len, 200, 512, n_classes)\n",
        "model.train()\n",
        "model = model.to(device)\n",
        "\n",
        "#optimizer\n",
        "optim = torch.optim.Adam(model.parameters(), lr=0.001)\n",
        "#lr scheduler\n",
        "\n",
        "\n",
        "#loss\n",
        "loss_func = nn.CrossEntropyLoss()\n",
        "#dataloder\n",
        "for epoch in range(10):\n",
        "    dataloader = DataLoader(\n",
        "        dataset=dataset,\n",
        "        collate_fn=collate_fn,\n",
        "        batch_size=batch_size,\n",
        "        shuffle=True,\n",
        "        drop_last=True,\n",
        "    )\n",
        "    for step, batch in enumerate(dataloader):\n",
        "        optim.zero_grad()\n",
        "        data = batch['data'].to(device)  # B x T\n",
        "        pred = model(data)\n",
        "        loss = loss_func(pred.view(-1, n_classes), batch['target'].view(-1).to(device))\n",
        "        loss.backward()\n",
        "        # if step % 5:\n",
        "        optim.step()\n",
        "\n",
        "        if step % 1000:\n",
        "            print(loss)\n",
        "    print(epoch)\n",
        "    #torch.save({'model': model.state_dict()}, 'C:\\Users\\Metall\\Downloads\\dv\\epoch_%d.pth.tar' % epoch)"
      ],
      "metadata": {
        "id": "nP8xwqaTM29Y"
      },
      "execution_count": null,
      "outputs": []
    },
    {
      "cell_type": "markdown",
      "source": [
        "tensor(0.0111, grad_fn=<NllLossBackward0>)\n",
        "tensor(0.0101, grad_fn=<NllLossBackward0>)\n",
        "tensor(0.0094, grad_fn=<NllLossBackward0>)\n",
        "tensor(0.0132, grad_fn=<NllLossBackward0>)\n",
        "9\n",
        "CPU times: user 18min 8s, sys: 21.6 s, total: 18min 30s\n",
        "Wall time: 18min 17s"
      ],
      "metadata": {
        "id": "9B1ZnHzCPC1s"
      }
    },
    {
      "cell_type": "code",
      "source": [
        "# inference\n",
        "sequence = [23,10,15,14,4,19]\n",
        "with torch.no_grad():\n",
        "    model.eval()\n",
        "    predict = model(torch.tensor(sequence).unsqueeze(0).to(device)) # 1 x T x N_classes\n",
        "    labels = pred.argmax(-1)\n",
        "\n",
        "\n",
        "#example\n",
        "phrase = 'He ran quickly after the red bus and caught it'\n",
        "words = phrase.split(' ')\n",
        "tokens = [dataset.word_vocab[w] for w in words]\n",
        "\n",
        "start = datetime.datetime.now()\n",
        "with torch.no_grad():\n",
        "    model.eval()\n",
        "    predict = model(torch.tensor(tokens).unsqueeze(0).to(device)) # 1 x T x N_classes\n",
        "    labels = torch.argmax(predict, dim=-1).squeeze().cpu().detach().tolist()\n",
        "    end = datetime.datetime.now() - start\n",
        "\n",
        "target_labels = list(dataset.target_vocab.keys())\n",
        "print([target_labels[l] for l in labels])"
      ],
      "metadata": {
        "colab": {
          "base_uri": "https://localhost:8080/"
        },
        "id": "GR5KfhLi09z6",
        "outputId": "1078c1de-d584-4eea-efd0-876b37459451"
      },
      "execution_count": null,
      "outputs": [
        {
          "output_type": "stream",
          "name": "stdout",
          "text": [
            "['PART', 'DET', 'CCONJ', 'NUM', 'ADP', 'NOUN', 'VERB', 'X', 'DET', 'PART']\n"
          ]
        }
      ]
    },
    {
      "cell_type": "markdown",
      "source": [
        ""
      ],
      "metadata": {
        "id": "lgn7349mGOiW"
      }
    },
    {
      "cell_type": "code",
      "source": [
        "#model\n",
        "class CharModel(nn.Module):\n",
        "    def __init__(self,\n",
        "                 vocab_size: int,\n",
        "                 emb_dim: int,\n",
        "                 hidden_dim: int,\n",
        "                 ):\n",
        "        super().__init__()\n",
        "        self.emb = nn.Embedding(vocab_size, emb_dim)\n",
        "        self.rnn = nn.GRU(emb_dim, hidden_dim, batch_first=True)\n",
        "\n",
        "    def forward(self, x): # B x T\n",
        "        emb_x = self.emb(x)  # B x T x V\n",
        "        _, out = self.rnn(emb_x) # 1 x B x Hid\n",
        "\n",
        "        return out\n",
        "\n",
        "\n",
        "class POS_predictorV2Chars(nn.Module):\n",
        "    def __init__(self,\n",
        "                 vocab_size: int,\n",
        "                 emb_dim: int,\n",
        "                 hidden_dim: int,\n",
        "                 n_classes: int,\n",
        "                 n_chars: int,\n",
        "                 char_emb_dim: int,\n",
        "                 char_hidden_dim: int,\n",
        "                 ):\n",
        "        super().__init__()\n",
        "        self.emb = nn.Embedding(vocab_size, emb_dim)\n",
        "        self.gru = nn.GRU(emb_dim + char_hidden_dim, hidden_dim, batch_first=True, bidirectional=False)\n",
        "        self.classifier = nn.Linear(hidden_dim, n_classes, bias=True)\n",
        "        self.char_rnn = CharModel(n_chars, char_emb_dim, char_hidden_dim)\n",
        "\n",
        "    def forward(self, x, x_chars):  # B x T\n",
        "        emb_x = self.emb(x)  # B x T x V\n",
        "        chars = [self.char_rnn(word.to(emb_x.device)).squeeze().unsqueeze(1) for word in x_chars]\n",
        "        chars = torch.cat(chars, dim=1)\n",
        "        gru_out, _ = self.gru(torch.cat((emb_x, chars), dim=-1))\n",
        "        pred = self.classifier(torch.dropout(gru_out, 0.1, self.training))\n",
        "\n",
        "        return pred\n"
      ],
      "metadata": {
        "id": "fI_UXk9SGM4w"
      },
      "execution_count": null,
      "outputs": []
    },
    {
      "cell_type": "code",
      "source": [
        "model = POS_predictorV2Chars(vocab_len, 200, 256, n_classes, n_chars, 32, 64)\n",
        "model.train()\n",
        "model = model.to(device)\n",
        "\n",
        "#optimizer\n",
        "optim = torch.optim.Adam(model.parameters(), lr=0.001)\n",
        "#lr scheduler\n",
        "\n",
        "\n",
        "#loss\n",
        "loss_func = nn.CrossEntropyLoss()\n",
        "#dataloder\n",
        "for epoch in range(10):\n",
        "    dataloader = DataLoader(\n",
        "        dataset=dataset,\n",
        "        collate_fn=collate_fn_char,\n",
        "        batch_size=batch_size,\n",
        "        shuffle=True,\n",
        "        drop_last=True,\n",
        "    )\n",
        "    for step, batch in enumerate(dataloader):\n",
        "        #\n",
        "        optim.zero_grad()\n",
        "        data = batch['data'].to(device)  # B x T\n",
        "        pred = model(data, batch['chars'])\n",
        "        loss = loss_func(pred.view(-1, n_classes), batch['target'].view(-1).to(device))\n",
        "        loss.backward()\n",
        "        # if step % 5:\n",
        "        optim.step()\n",
        "        #\n",
        "        if step % 50:\n",
        "            print(loss)\n",
        "    print(epoch)"
      ],
      "metadata": {
        "id": "9odTfm14IXeg"
      },
      "execution_count": null,
      "outputs": []
    },
    {
      "cell_type": "markdown",
      "source": [
        "tensor(0.0062, grad_fn=<NllLossBackward0>)\n",
        "tensor(0.0071, grad_fn=<NllLossBackward0>)\n",
        "tensor(0.0049, grad_fn=<NllLossBackward0>)\n",
        "tensor(0.0085, grad_fn=<NllLossBackward0>)\n",
        "19"
      ],
      "metadata": {
        "id": "3WrqlamxPMc6"
      }
    }
  ]
}