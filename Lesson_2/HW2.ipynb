{
 "cells": [
  {
   "cell_type": "markdown",
   "metadata": {
    "pycharm": {
     "name": "#%% md\n"
    }
   },
   "source": [
    "# Задание\n",
    "* Собрать информацию о всех строящихся объектах на сайте \"наш.дом.рф\"\n",
    "* Cохранить ее в pandas dataframe\n",
    "* Cохранить pandas dataframe в excel\n",
    "* Cохранить pandas dataframe в pickle\n",
    "* Cохранить pandas dataframe в БД\n",
    "\n",
    "\n"
   ]
  },
  {
   "cell_type": "code",
   "execution_count": 1,
   "metadata": {
    "pycharm": {
     "name": "#%%\n"
    }
   },
   "outputs": [],
   "source": [
    "import pandas as pd\n",
    "import requests"
   ]
  },
  {
   "cell_type": "markdown",
   "metadata": {
    "pycharm": {
     "name": "#%% md\n"
    }
   },
   "source": [
    "## Список объектов"
   ]
  },
  {
   "cell_type": "code",
   "execution_count": 2,
   "metadata": {
    "pycharm": {
     "name": "#%%\n"
    }
   },
   "outputs": [],
   "source": [
    "offset_ = 1\n",
    "limit_ = 5000\n",
    "url = f'https://xn--80az8a.xn--d1aqf.xn--p1ai/%D1%81%D0%B5%D1%80%D0%B2%D0%B8%D1%81%D1%8B/api/kn/object?offset={offset_}&limit={limit_}&sortField=devId.devShortCleanNm&sortType=asc&objStatus=0'\n",
    "res = requests.get(url)\n",
    "objects_data = res.json()"
   ]
  },
  {
   "cell_type": "code",
   "execution_count": 3,
   "metadata": {},
   "outputs": [],
   "source": [
    "objects_data = res.json()"
   ]
  },
  {
   "cell_type": "code",
   "execution_count": 4,
   "metadata": {
    "pycharm": {
     "name": "#%%\n"
    }
   },
   "outputs": [],
   "source": [
    "objects_list = objects_data.get('data').get('list')"
   ]
  },
  {
   "cell_type": "code",
   "execution_count": 5,
   "metadata": {
    "pycharm": {
     "name": "#%%\n"
    }
   },
   "outputs": [],
   "source": [
    "df = pd.json_normalize(objects_list)"
   ]
  },
  {
   "cell_type": "code",
   "execution_count": 6,
   "metadata": {},
   "outputs": [
    {
     "data": {
      "text/html": [
       "<div>\n",
       "<style scoped>\n",
       "    .dataframe tbody tr th:only-of-type {\n",
       "        vertical-align: middle;\n",
       "    }\n",
       "\n",
       "    .dataframe tbody tr th {\n",
       "        vertical-align: top;\n",
       "    }\n",
       "\n",
       "    .dataframe thead th {\n",
       "        text-align: right;\n",
       "    }\n",
       "</style>\n",
       "<table border=\"1\" class=\"dataframe\">\n",
       "  <thead>\n",
       "    <tr style=\"text-align: right;\">\n",
       "      <th></th>\n",
       "      <th>objId</th>\n",
       "      <th>rpdRegionCd</th>\n",
       "      <th>objAddr</th>\n",
       "      <th>objFloorMin</th>\n",
       "      <th>objFloorMax</th>\n",
       "      <th>objElemLivingCnt</th>\n",
       "      <th>objReady100PercDt</th>\n",
       "      <th>objSquareLiving</th>\n",
       "      <th>objCompensFundFlg</th>\n",
       "      <th>objProblemFlg</th>\n",
       "      <th>...</th>\n",
       "      <th>developer.orgForm.fullForm</th>\n",
       "      <th>developer.orgForm.shortForm</th>\n",
       "      <th>developer.companyGroup</th>\n",
       "      <th>developer.devInn</th>\n",
       "      <th>objCommercNm</th>\n",
       "      <th>complexShortName</th>\n",
       "      <th>developer.bankruptStage.bankruptStageCd</th>\n",
       "      <th>developer.bankruptStage.bankruptStageDesc</th>\n",
       "      <th>developer.bankruptStage.bankruptLawUrl</th>\n",
       "      <th>developer.orgBankruptMsgDttm</th>\n",
       "    </tr>\n",
       "  </thead>\n",
       "  <tbody>\n",
       "    <tr>\n",
       "      <th>0</th>\n",
       "      <td>13399</td>\n",
       "      <td>72</td>\n",
       "      <td>г Тюмень, ул Профсоюзная, д. 56</td>\n",
       "      <td>1</td>\n",
       "      <td>1</td>\n",
       "      <td>0</td>\n",
       "      <td>2024-12-31</td>\n",
       "      <td>0.00</td>\n",
       "      <td>0</td>\n",
       "      <td>0</td>\n",
       "      <td>...</td>\n",
       "      <td>Акционерное общество</td>\n",
       "      <td>АО</td>\n",
       "      <td>6.994210e+08</td>\n",
       "      <td>7701651356</td>\n",
       "      <td>NaN</td>\n",
       "      <td>NaN</td>\n",
       "      <td>NaN</td>\n",
       "      <td>NaN</td>\n",
       "      <td>NaN</td>\n",
       "      <td>NaN</td>\n",
       "    </tr>\n",
       "    <tr>\n",
       "      <th>1</th>\n",
       "      <td>13383</td>\n",
       "      <td>72</td>\n",
       "      <td>г Тюмень</td>\n",
       "      <td>4</td>\n",
       "      <td>20</td>\n",
       "      <td>68</td>\n",
       "      <td>2022-06-30</td>\n",
       "      <td>6289.98</td>\n",
       "      <td>1</td>\n",
       "      <td>0</td>\n",
       "      <td>...</td>\n",
       "      <td>Акционерное общество</td>\n",
       "      <td>АО</td>\n",
       "      <td>6.994210e+08</td>\n",
       "      <td>7701651356</td>\n",
       "      <td>NaN</td>\n",
       "      <td>NaN</td>\n",
       "      <td>NaN</td>\n",
       "      <td>NaN</td>\n",
       "      <td>NaN</td>\n",
       "      <td>NaN</td>\n",
       "    </tr>\n",
       "    <tr>\n",
       "      <th>2</th>\n",
       "      <td>13391</td>\n",
       "      <td>72</td>\n",
       "      <td>г Тюмень, ул Профсоюзная</td>\n",
       "      <td>3</td>\n",
       "      <td>12</td>\n",
       "      <td>44</td>\n",
       "      <td>2022-06-30</td>\n",
       "      <td>4293.67</td>\n",
       "      <td>1</td>\n",
       "      <td>0</td>\n",
       "      <td>...</td>\n",
       "      <td>Акционерное общество</td>\n",
       "      <td>АО</td>\n",
       "      <td>6.994210e+08</td>\n",
       "      <td>7701651356</td>\n",
       "      <td>NaN</td>\n",
       "      <td>NaN</td>\n",
       "      <td>NaN</td>\n",
       "      <td>NaN</td>\n",
       "      <td>NaN</td>\n",
       "      <td>NaN</td>\n",
       "    </tr>\n",
       "    <tr>\n",
       "      <th>3</th>\n",
       "      <td>13397</td>\n",
       "      <td>72</td>\n",
       "      <td>г Тюмень, ул Профсоюзная, д. 56</td>\n",
       "      <td>6</td>\n",
       "      <td>12</td>\n",
       "      <td>65</td>\n",
       "      <td>2024-12-31</td>\n",
       "      <td>6248.51</td>\n",
       "      <td>0</td>\n",
       "      <td>0</td>\n",
       "      <td>...</td>\n",
       "      <td>Акционерное общество</td>\n",
       "      <td>АО</td>\n",
       "      <td>6.994210e+08</td>\n",
       "      <td>7701651356</td>\n",
       "      <td>NaN</td>\n",
       "      <td>NaN</td>\n",
       "      <td>NaN</td>\n",
       "      <td>NaN</td>\n",
       "      <td>NaN</td>\n",
       "      <td>NaN</td>\n",
       "    </tr>\n",
       "    <tr>\n",
       "      <th>4</th>\n",
       "      <td>23682</td>\n",
       "      <td>47</td>\n",
       "      <td>д Агалатово</td>\n",
       "      <td>10</td>\n",
       "      <td>10</td>\n",
       "      <td>54</td>\n",
       "      <td>2022-06-30</td>\n",
       "      <td>2748.15</td>\n",
       "      <td>1</td>\n",
       "      <td>0</td>\n",
       "      <td>...</td>\n",
       "      <td>Общество с ограниченной ответственностью</td>\n",
       "      <td>ООО</td>\n",
       "      <td>5.562608e+09</td>\n",
       "      <td>7806536079</td>\n",
       "      <td>Жилой комплекс \"84 высота\"</td>\n",
       "      <td>NaN</td>\n",
       "      <td>NaN</td>\n",
       "      <td>NaN</td>\n",
       "      <td>NaN</td>\n",
       "      <td>NaN</td>\n",
       "    </tr>\n",
       "  </tbody>\n",
       "</table>\n",
       "<p>5 rows × 35 columns</p>\n",
       "</div>"
      ],
      "text/plain": [
       "   objId  rpdRegionCd                          objAddr  objFloorMin  \\\n",
       "0  13399           72  г Тюмень, ул Профсоюзная, д. 56            1   \n",
       "1  13383           72                         г Тюмень            4   \n",
       "2  13391           72         г Тюмень, ул Профсоюзная            3   \n",
       "3  13397           72  г Тюмень, ул Профсоюзная, д. 56            6   \n",
       "4  23682           47                      д Агалатово           10   \n",
       "\n",
       "   objFloorMax  objElemLivingCnt objReady100PercDt  objSquareLiving  \\\n",
       "0            1                 0        2024-12-31             0.00   \n",
       "1           20                68        2022-06-30          6289.98   \n",
       "2           12                44        2022-06-30          4293.67   \n",
       "3           12                65        2024-12-31          6248.51   \n",
       "4           10                54        2022-06-30          2748.15   \n",
       "\n",
       "   objCompensFundFlg  objProblemFlg  ...  \\\n",
       "0                  0              0  ...   \n",
       "1                  1              0  ...   \n",
       "2                  1              0  ...   \n",
       "3                  0              0  ...   \n",
       "4                  1              0  ...   \n",
       "\n",
       "                 developer.orgForm.fullForm  developer.orgForm.shortForm  \\\n",
       "0                      Акционерное общество                           АО   \n",
       "1                      Акционерное общество                           АО   \n",
       "2                      Акционерное общество                           АО   \n",
       "3                      Акционерное общество                           АО   \n",
       "4  Общество с ограниченной ответственностью                          ООО   \n",
       "\n",
       "  developer.companyGroup developer.devInn                objCommercNm  \\\n",
       "0           6.994210e+08       7701651356                         NaN   \n",
       "1           6.994210e+08       7701651356                         NaN   \n",
       "2           6.994210e+08       7701651356                         NaN   \n",
       "3           6.994210e+08       7701651356                         NaN   \n",
       "4           5.562608e+09       7806536079  Жилой комплекс \"84 высота\"   \n",
       "\n",
       "   complexShortName developer.bankruptStage.bankruptStageCd  \\\n",
       "0               NaN                                     NaN   \n",
       "1               NaN                                     NaN   \n",
       "2               NaN                                     NaN   \n",
       "3               NaN                                     NaN   \n",
       "4               NaN                                     NaN   \n",
       "\n",
       "   developer.bankruptStage.bankruptStageDesc  \\\n",
       "0                                        NaN   \n",
       "1                                        NaN   \n",
       "2                                        NaN   \n",
       "3                                        NaN   \n",
       "4                                        NaN   \n",
       "\n",
       "  developer.bankruptStage.bankruptLawUrl  developer.orgBankruptMsgDttm  \n",
       "0                                    NaN                           NaN  \n",
       "1                                    NaN                           NaN  \n",
       "2                                    NaN                           NaN  \n",
       "3                                    NaN                           NaN  \n",
       "4                                    NaN                           NaN  \n",
       "\n",
       "[5 rows x 35 columns]"
      ]
     },
     "execution_count": 6,
     "metadata": {},
     "output_type": "execute_result"
    }
   ],
   "source": [
    "df.head()"
   ]
  },
  {
   "cell_type": "code",
   "execution_count": 7,
   "metadata": {},
   "outputs": [
    {
     "name": "stdout",
     "output_type": "stream",
     "text": [
      "<class 'pandas.core.frame.DataFrame'>\n",
      "RangeIndex: 5000 entries, 0 to 4999\n",
      "Data columns (total 35 columns):\n",
      " #   Column                                     Non-Null Count  Dtype  \n",
      "---  ------                                     --------------  -----  \n",
      " 0   objId                                      5000 non-null   int64  \n",
      " 1   rpdRegionCd                                5000 non-null   int64  \n",
      " 2   objAddr                                    4975 non-null   object \n",
      " 3   objFloorMin                                5000 non-null   int64  \n",
      " 4   objFloorMax                                5000 non-null   int64  \n",
      " 5   objElemLivingCnt                           5000 non-null   int64  \n",
      " 6   objReady100PercDt                          5000 non-null   object \n",
      " 7   objSquareLiving                            5000 non-null   float64\n",
      " 8   objCompensFundFlg                          5000 non-null   int64  \n",
      " 9   objProblemFlg                              5000 non-null   int64  \n",
      " 10  latitude                                   4990 non-null   float64\n",
      " 11  longitude                                  4990 non-null   float64\n",
      " 12  problemFlag                                5000 non-null   object \n",
      " 13  siteStatus                                 5000 non-null   object \n",
      " 14  objGuarantyEscrowFlg                       5000 non-null   int64  \n",
      " 15  residentialBuildings                       5000 non-null   int64  \n",
      " 16  rpdNum                                     5000 non-null   object \n",
      " 17  pdId                                       5000 non-null   int64  \n",
      " 18  buildType                                  5000 non-null   object \n",
      " 19  objStatus                                  5000 non-null   int64  \n",
      " 20  developer.devId                            5000 non-null   int64  \n",
      " 21  developer.shortName                        5000 non-null   object \n",
      " 22  developer.fullName                         5000 non-null   object \n",
      " 23  developer.groupName                        3892 non-null   object \n",
      " 24  developer.orgForm.id                       5000 non-null   int64  \n",
      " 25  developer.orgForm.fullForm                 5000 non-null   object \n",
      " 26  developer.orgForm.shortForm                5000 non-null   object \n",
      " 27  developer.companyGroup                     3892 non-null   float64\n",
      " 28  developer.devInn                           5000 non-null   object \n",
      " 29  objCommercNm                               3887 non-null   object \n",
      " 30  complexShortName                           489 non-null    object \n",
      " 31  developer.bankruptStage.bankruptStageCd    53 non-null     float64\n",
      " 32  developer.bankruptStage.bankruptStageDesc  53 non-null     object \n",
      " 33  developer.bankruptStage.bankruptLawUrl     53 non-null     object \n",
      " 34  developer.orgBankruptMsgDttm               53 non-null     object \n",
      "dtypes: float64(5), int64(13), object(17)\n",
      "memory usage: 1.3+ MB\n"
     ]
    }
   ],
   "source": [
    "df.info()"
   ]
  },
  {
   "cell_type": "code",
   "execution_count": 8,
   "metadata": {},
   "outputs": [
    {
     "data": {
      "text/html": [
       "<div>\n",
       "<style scoped>\n",
       "    .dataframe tbody tr th:only-of-type {\n",
       "        vertical-align: middle;\n",
       "    }\n",
       "\n",
       "    .dataframe tbody tr th {\n",
       "        vertical-align: top;\n",
       "    }\n",
       "\n",
       "    .dataframe thead th {\n",
       "        text-align: right;\n",
       "    }\n",
       "</style>\n",
       "<table border=\"1\" class=\"dataframe\">\n",
       "  <thead>\n",
       "    <tr style=\"text-align: right;\">\n",
       "      <th></th>\n",
       "      <th>count</th>\n",
       "      <th>mean</th>\n",
       "      <th>std</th>\n",
       "      <th>min</th>\n",
       "      <th>25%</th>\n",
       "      <th>50%</th>\n",
       "      <th>75%</th>\n",
       "      <th>max</th>\n",
       "    </tr>\n",
       "  </thead>\n",
       "  <tbody>\n",
       "    <tr>\n",
       "      <th>objId</th>\n",
       "      <td>5000.0</td>\n",
       "      <td>3.487067e+04</td>\n",
       "      <td>1.080989e+04</td>\n",
       "      <td>851.0000</td>\n",
       "      <td>3.013875e+04</td>\n",
       "      <td>3.865450e+04</td>\n",
       "      <td>4.290425e+04</td>\n",
       "      <td>4.599200e+04</td>\n",
       "    </tr>\n",
       "    <tr>\n",
       "      <th>rpdRegionCd</th>\n",
       "      <td>5000.0</td>\n",
       "      <td>4.893680e+01</td>\n",
       "      <td>2.241869e+01</td>\n",
       "      <td>1.0000</td>\n",
       "      <td>2.900000e+01</td>\n",
       "      <td>5.000000e+01</td>\n",
       "      <td>7.100000e+01</td>\n",
       "      <td>9.200000e+01</td>\n",
       "    </tr>\n",
       "    <tr>\n",
       "      <th>objFloorMin</th>\n",
       "      <td>5000.0</td>\n",
       "      <td>1.040820e+01</td>\n",
       "      <td>7.997397e+00</td>\n",
       "      <td>0.0000</td>\n",
       "      <td>3.000000e+00</td>\n",
       "      <td>9.000000e+00</td>\n",
       "      <td>1.600000e+01</td>\n",
       "      <td>7.600000e+01</td>\n",
       "    </tr>\n",
       "    <tr>\n",
       "      <th>objFloorMax</th>\n",
       "      <td>5000.0</td>\n",
       "      <td>1.239260e+01</td>\n",
       "      <td>8.687575e+00</td>\n",
       "      <td>0.0000</td>\n",
       "      <td>5.000000e+00</td>\n",
       "      <td>1.100000e+01</td>\n",
       "      <td>1.800000e+01</td>\n",
       "      <td>7.600000e+01</td>\n",
       "    </tr>\n",
       "    <tr>\n",
       "      <th>objElemLivingCnt</th>\n",
       "      <td>5000.0</td>\n",
       "      <td>1.837306e+02</td>\n",
       "      <td>2.326504e+02</td>\n",
       "      <td>0.0000</td>\n",
       "      <td>3.175000e+01</td>\n",
       "      <td>1.120000e+02</td>\n",
       "      <td>2.520000e+02</td>\n",
       "      <td>2.676000e+03</td>\n",
       "    </tr>\n",
       "    <tr>\n",
       "      <th>objSquareLiving</th>\n",
       "      <td>5000.0</td>\n",
       "      <td>9.156348e+03</td>\n",
       "      <td>1.146296e+04</td>\n",
       "      <td>0.0000</td>\n",
       "      <td>1.818655e+03</td>\n",
       "      <td>6.025300e+03</td>\n",
       "      <td>1.215367e+04</td>\n",
       "      <td>1.429787e+05</td>\n",
       "    </tr>\n",
       "    <tr>\n",
       "      <th>objCompensFundFlg</th>\n",
       "      <td>5000.0</td>\n",
       "      <td>1.696000e-01</td>\n",
       "      <td>3.753185e-01</td>\n",
       "      <td>0.0000</td>\n",
       "      <td>0.000000e+00</td>\n",
       "      <td>0.000000e+00</td>\n",
       "      <td>0.000000e+00</td>\n",
       "      <td>1.000000e+00</td>\n",
       "    </tr>\n",
       "    <tr>\n",
       "      <th>objProblemFlg</th>\n",
       "      <td>5000.0</td>\n",
       "      <td>0.000000e+00</td>\n",
       "      <td>0.000000e+00</td>\n",
       "      <td>0.0000</td>\n",
       "      <td>0.000000e+00</td>\n",
       "      <td>0.000000e+00</td>\n",
       "      <td>0.000000e+00</td>\n",
       "      <td>0.000000e+00</td>\n",
       "    </tr>\n",
       "    <tr>\n",
       "      <th>latitude</th>\n",
       "      <td>4990.0</td>\n",
       "      <td>5.397284e+01</td>\n",
       "      <td>5.007527e+00</td>\n",
       "      <td>41.4199</td>\n",
       "      <td>5.222410e+01</td>\n",
       "      <td>5.539995e+01</td>\n",
       "      <td>5.680132e+01</td>\n",
       "      <td>6.686600e+01</td>\n",
       "    </tr>\n",
       "    <tr>\n",
       "      <th>longitude</th>\n",
       "      <td>4990.0</td>\n",
       "      <td>5.133095e+01</td>\n",
       "      <td>2.606890e+01</td>\n",
       "      <td>19.9033</td>\n",
       "      <td>3.725075e+01</td>\n",
       "      <td>3.960205e+01</td>\n",
       "      <td>6.049670e+01</td>\n",
       "      <td>1.427431e+02</td>\n",
       "    </tr>\n",
       "    <tr>\n",
       "      <th>objGuarantyEscrowFlg</th>\n",
       "      <td>5000.0</td>\n",
       "      <td>7.586000e-01</td>\n",
       "      <td>4.279751e-01</td>\n",
       "      <td>0.0000</td>\n",
       "      <td>1.000000e+00</td>\n",
       "      <td>1.000000e+00</td>\n",
       "      <td>1.000000e+00</td>\n",
       "      <td>1.000000e+00</td>\n",
       "    </tr>\n",
       "    <tr>\n",
       "      <th>residentialBuildings</th>\n",
       "      <td>5000.0</td>\n",
       "      <td>8.976000e-01</td>\n",
       "      <td>3.032039e-01</td>\n",
       "      <td>0.0000</td>\n",
       "      <td>1.000000e+00</td>\n",
       "      <td>1.000000e+00</td>\n",
       "      <td>1.000000e+00</td>\n",
       "      <td>1.000000e+00</td>\n",
       "    </tr>\n",
       "    <tr>\n",
       "      <th>pdId</th>\n",
       "      <td>5000.0</td>\n",
       "      <td>3.188967e+05</td>\n",
       "      <td>1.987514e+05</td>\n",
       "      <td>172.0000</td>\n",
       "      <td>9.118150e+04</td>\n",
       "      <td>3.946930e+05</td>\n",
       "      <td>4.957590e+05</td>\n",
       "      <td>5.865990e+05</td>\n",
       "    </tr>\n",
       "    <tr>\n",
       "      <th>objStatus</th>\n",
       "      <td>5000.0</td>\n",
       "      <td>0.000000e+00</td>\n",
       "      <td>0.000000e+00</td>\n",
       "      <td>0.0000</td>\n",
       "      <td>0.000000e+00</td>\n",
       "      <td>0.000000e+00</td>\n",
       "      <td>0.000000e+00</td>\n",
       "      <td>0.000000e+00</td>\n",
       "    </tr>\n",
       "    <tr>\n",
       "      <th>developer.devId</th>\n",
       "      <td>5000.0</td>\n",
       "      <td>6.219498e+03</td>\n",
       "      <td>4.685556e+03</td>\n",
       "      <td>10.0000</td>\n",
       "      <td>1.704000e+03</td>\n",
       "      <td>6.316000e+03</td>\n",
       "      <td>1.086300e+04</td>\n",
       "      <td>1.402200e+04</td>\n",
       "    </tr>\n",
       "    <tr>\n",
       "      <th>developer.orgForm.id</th>\n",
       "      <td>5000.0</td>\n",
       "      <td>5.054600e+00</td>\n",
       "      <td>1.140261e+01</td>\n",
       "      <td>1.0000</td>\n",
       "      <td>4.000000e+00</td>\n",
       "      <td>4.000000e+00</td>\n",
       "      <td>4.000000e+00</td>\n",
       "      <td>1.240000e+02</td>\n",
       "    </tr>\n",
       "    <tr>\n",
       "      <th>developer.companyGroup</th>\n",
       "      <td>3892.0</td>\n",
       "      <td>3.208608e+09</td>\n",
       "      <td>2.741183e+09</td>\n",
       "      <td>297.0000</td>\n",
       "      <td>4.516860e+08</td>\n",
       "      <td>2.488380e+09</td>\n",
       "      <td>5.694858e+09</td>\n",
       "      <td>1.023909e+10</td>\n",
       "    </tr>\n",
       "    <tr>\n",
       "      <th>developer.bankruptStage.bankruptStageCd</th>\n",
       "      <td>53.0</td>\n",
       "      <td>4.698113e+00</td>\n",
       "      <td>9.919853e-01</td>\n",
       "      <td>4.0000</td>\n",
       "      <td>4.000000e+00</td>\n",
       "      <td>4.000000e+00</td>\n",
       "      <td>6.000000e+00</td>\n",
       "      <td>7.000000e+00</td>\n",
       "    </tr>\n",
       "  </tbody>\n",
       "</table>\n",
       "</div>"
      ],
      "text/plain": [
       "                                          count          mean           std  \\\n",
       "objId                                    5000.0  3.487067e+04  1.080989e+04   \n",
       "rpdRegionCd                              5000.0  4.893680e+01  2.241869e+01   \n",
       "objFloorMin                              5000.0  1.040820e+01  7.997397e+00   \n",
       "objFloorMax                              5000.0  1.239260e+01  8.687575e+00   \n",
       "objElemLivingCnt                         5000.0  1.837306e+02  2.326504e+02   \n",
       "objSquareLiving                          5000.0  9.156348e+03  1.146296e+04   \n",
       "objCompensFundFlg                        5000.0  1.696000e-01  3.753185e-01   \n",
       "objProblemFlg                            5000.0  0.000000e+00  0.000000e+00   \n",
       "latitude                                 4990.0  5.397284e+01  5.007527e+00   \n",
       "longitude                                4990.0  5.133095e+01  2.606890e+01   \n",
       "objGuarantyEscrowFlg                     5000.0  7.586000e-01  4.279751e-01   \n",
       "residentialBuildings                     5000.0  8.976000e-01  3.032039e-01   \n",
       "pdId                                     5000.0  3.188967e+05  1.987514e+05   \n",
       "objStatus                                5000.0  0.000000e+00  0.000000e+00   \n",
       "developer.devId                          5000.0  6.219498e+03  4.685556e+03   \n",
       "developer.orgForm.id                     5000.0  5.054600e+00  1.140261e+01   \n",
       "developer.companyGroup                   3892.0  3.208608e+09  2.741183e+09   \n",
       "developer.bankruptStage.bankruptStageCd    53.0  4.698113e+00  9.919853e-01   \n",
       "\n",
       "                                              min           25%           50%  \\\n",
       "objId                                    851.0000  3.013875e+04  3.865450e+04   \n",
       "rpdRegionCd                                1.0000  2.900000e+01  5.000000e+01   \n",
       "objFloorMin                                0.0000  3.000000e+00  9.000000e+00   \n",
       "objFloorMax                                0.0000  5.000000e+00  1.100000e+01   \n",
       "objElemLivingCnt                           0.0000  3.175000e+01  1.120000e+02   \n",
       "objSquareLiving                            0.0000  1.818655e+03  6.025300e+03   \n",
       "objCompensFundFlg                          0.0000  0.000000e+00  0.000000e+00   \n",
       "objProblemFlg                              0.0000  0.000000e+00  0.000000e+00   \n",
       "latitude                                  41.4199  5.222410e+01  5.539995e+01   \n",
       "longitude                                 19.9033  3.725075e+01  3.960205e+01   \n",
       "objGuarantyEscrowFlg                       0.0000  1.000000e+00  1.000000e+00   \n",
       "residentialBuildings                       0.0000  1.000000e+00  1.000000e+00   \n",
       "pdId                                     172.0000  9.118150e+04  3.946930e+05   \n",
       "objStatus                                  0.0000  0.000000e+00  0.000000e+00   \n",
       "developer.devId                           10.0000  1.704000e+03  6.316000e+03   \n",
       "developer.orgForm.id                       1.0000  4.000000e+00  4.000000e+00   \n",
       "developer.companyGroup                   297.0000  4.516860e+08  2.488380e+09   \n",
       "developer.bankruptStage.bankruptStageCd    4.0000  4.000000e+00  4.000000e+00   \n",
       "\n",
       "                                                  75%           max  \n",
       "objId                                    4.290425e+04  4.599200e+04  \n",
       "rpdRegionCd                              7.100000e+01  9.200000e+01  \n",
       "objFloorMin                              1.600000e+01  7.600000e+01  \n",
       "objFloorMax                              1.800000e+01  7.600000e+01  \n",
       "objElemLivingCnt                         2.520000e+02  2.676000e+03  \n",
       "objSquareLiving                          1.215367e+04  1.429787e+05  \n",
       "objCompensFundFlg                        0.000000e+00  1.000000e+00  \n",
       "objProblemFlg                            0.000000e+00  0.000000e+00  \n",
       "latitude                                 5.680132e+01  6.686600e+01  \n",
       "longitude                                6.049670e+01  1.427431e+02  \n",
       "objGuarantyEscrowFlg                     1.000000e+00  1.000000e+00  \n",
       "residentialBuildings                     1.000000e+00  1.000000e+00  \n",
       "pdId                                     4.957590e+05  5.865990e+05  \n",
       "objStatus                                0.000000e+00  0.000000e+00  \n",
       "developer.devId                          1.086300e+04  1.402200e+04  \n",
       "developer.orgForm.id                     4.000000e+00  1.240000e+02  \n",
       "developer.companyGroup                   5.694858e+09  1.023909e+10  \n",
       "developer.bankruptStage.bankruptStageCd  6.000000e+00  7.000000e+00  "
      ]
     },
     "execution_count": 8,
     "metadata": {},
     "output_type": "execute_result"
    }
   ],
   "source": [
    "df.describe().T"
   ]
  },
  {
   "cell_type": "markdown",
   "metadata": {},
   "source": [
    "## Сохранение данных  в различных форматах"
   ]
  },
  {
   "cell_type": "code",
   "execution_count": 9,
   "metadata": {},
   "outputs": [],
   "source": [
    "df.to_excel('HW_2.xlsx', index=False)"
   ]
  },
  {
   "cell_type": "code",
   "execution_count": 10,
   "metadata": {},
   "outputs": [],
   "source": [
    "df.to_pickle('HW_2.pkl')"
   ]
  },
  {
   "cell_type": "code",
   "execution_count": 11,
   "metadata": {},
   "outputs": [],
   "source": [
    "import sqlite3\n",
    "connect = sqlite3.connect('dmrf_bd')"
   ]
  },
  {
   "cell_type": "code",
   "execution_count": 12,
   "metadata": {},
   "outputs": [],
   "source": [
    "df.to_sql('obj', connect, if_exists='replace', index = False)\n",
    "connect.commit()\n",
    "connect.close()"
   ]
  },
  {
   "cell_type": "code",
   "execution_count": null,
   "metadata": {},
   "outputs": [],
   "source": []
  }
 ],
 "metadata": {
  "ExecuteTimeLog": [
   {
    "duration": 72,
    "start_time": "2022-05-04T17:47:31.214Z"
   },
   {
    "duration": 60129,
    "start_time": "2022-05-04T17:47:32.877Z"
   },
   {
    "duration": 60042,
    "start_time": "2022-05-04T17:52:54.746Z"
   },
   {
    "duration": 44008,
    "start_time": "2022-05-04T17:54:18.050Z"
   },
   {
    "duration": 786,
    "start_time": "2022-05-04T17:55:08.192Z"
   },
   {
    "duration": 4,
    "start_time": "2022-05-04T17:55:31.531Z"
   },
   {
    "duration": 4,
    "start_time": "2022-05-04T17:55:32.560Z"
   },
   {
    "duration": 784,
    "start_time": "2022-05-04T17:55:33.410Z"
   },
   {
    "duration": 3,
    "start_time": "2022-05-04T17:55:56.011Z"
   },
   {
    "duration": 5,
    "start_time": "2022-05-04T17:55:56.601Z"
   },
   {
    "duration": 4,
    "start_time": "2022-05-04T17:55:57.553Z"
   },
   {
    "duration": 4,
    "start_time": "2022-05-04T17:56:02.865Z"
   },
   {
    "duration": 453,
    "start_time": "2022-05-04T18:00:53.747Z"
   },
   {
    "duration": 39,
    "start_time": "2022-05-04T18:04:04.978Z"
   },
   {
    "duration": 373,
    "start_time": "2022-05-04T18:05:51.129Z"
   },
   {
    "duration": 47,
    "start_time": "2022-05-04T18:05:56.913Z"
   },
   {
    "duration": 39,
    "start_time": "2022-05-04T18:06:31.449Z"
   },
   {
    "duration": 20,
    "start_time": "2022-05-04T18:07:10.664Z"
   },
   {
    "duration": 75,
    "start_time": "2022-05-04T18:09:01.523Z"
   },
   {
    "duration": 2,
    "start_time": "2022-05-04T18:09:10.851Z"
   },
   {
    "duration": 381,
    "start_time": "2022-05-04T18:09:11.763Z"
   },
   {
    "duration": 19,
    "start_time": "2022-05-04T18:09:13.170Z"
   },
   {
    "duration": 40,
    "start_time": "2022-05-04T18:09:15.259Z"
   },
   {
    "duration": 4,
    "start_time": "2022-05-04T18:09:29.307Z"
   },
   {
    "duration": 13,
    "start_time": "2022-05-04T18:09:30.618Z"
   },
   {
    "duration": 53,
    "start_time": "2022-05-04T18:09:38.987Z"
   },
   {
    "duration": 6,
    "start_time": "2022-05-04T18:10:07.964Z"
   },
   {
    "duration": 626,
    "start_time": "2022-05-04T18:10:17.570Z"
   },
   {
    "duration": 6,
    "start_time": "2022-05-04T18:10:59.458Z"
   },
   {
    "duration": 6,
    "start_time": "2022-05-04T18:11:19.170Z"
   },
   {
    "duration": 23,
    "start_time": "2022-05-04T18:11:41.855Z"
   },
   {
    "duration": 64,
    "start_time": "2022-05-04T18:35:42.206Z"
   },
   {
    "duration": 4160,
    "start_time": "2022-05-04T18:39:28.604Z"
   },
   {
    "duration": 371,
    "start_time": "2022-05-04T18:40:20.323Z"
   },
   {
    "duration": 315,
    "start_time": "2022-05-04T18:43:01.850Z"
   },
   {
    "duration": 3,
    "start_time": "2022-05-04T19:12:16.714Z"
   },
   {
    "duration": 43598,
    "start_time": "2022-05-04T19:12:17.798Z"
   },
   {
    "duration": 94,
    "start_time": "2022-05-04T19:13:01.398Z"
   },
   {
    "duration": 23,
    "start_time": "2022-05-04T19:13:01.493Z"
   },
   {
    "duration": 378,
    "start_time": "2022-05-04T19:13:01.523Z"
   },
   {
    "duration": 38,
    "start_time": "2022-05-04T19:13:01.903Z"
   },
   {
    "duration": 23,
    "start_time": "2022-05-04T19:13:01.943Z"
   },
   {
    "duration": 110,
    "start_time": "2022-05-04T19:13:01.968Z"
   },
   {
    "duration": 4165,
    "start_time": "2022-05-04T19:13:02.081Z"
   },
   {
    "duration": 186,
    "start_time": "2022-05-04T19:13:06.248Z"
   },
   {
    "duration": 209,
    "start_time": "2022-05-04T19:17:17.132Z"
   },
   {
    "duration": 1286,
    "start_time": "2022-05-04T19:17:30.402Z"
   },
   {
    "duration": 423,
    "start_time": "2022-05-05T09:54:24.860Z"
   },
   {
    "duration": 51875,
    "start_time": "2022-05-05T09:54:25.285Z"
   },
   {
    "duration": 80,
    "start_time": "2022-05-05T09:55:17.162Z"
   },
   {
    "duration": 16,
    "start_time": "2022-05-05T09:55:17.244Z"
   },
   {
    "duration": 310,
    "start_time": "2022-05-05T09:55:17.262Z"
   },
   {
    "duration": 34,
    "start_time": "2022-05-05T09:55:17.574Z"
   },
   {
    "duration": 19,
    "start_time": "2022-05-05T09:55:17.610Z"
   },
   {
    "duration": 77,
    "start_time": "2022-05-05T09:55:17.631Z"
   },
   {
    "duration": 3738,
    "start_time": "2022-05-05T09:55:17.709Z"
   },
   {
    "duration": 163,
    "start_time": "2022-05-05T09:55:21.449Z"
   },
   {
    "duration": 111,
    "start_time": "2022-05-05T09:55:21.613Z"
   },
   {
    "duration": 2069,
    "start_time": "2022-05-05T09:55:21.726Z"
   }
  ],
  "kernelspec": {
   "display_name": "Python 3 (ipykernel)",
   "language": "python",
   "name": "python3"
  },
  "language_info": {
   "codemirror_mode": {
    "name": "ipython",
    "version": 3
   },
   "file_extension": ".py",
   "mimetype": "text/x-python",
   "name": "python",
   "nbconvert_exporter": "python",
   "pygments_lexer": "ipython3",
   "version": "3.9.5"
  },
  "toc": {
   "base_numbering": 1,
   "nav_menu": {},
   "number_sections": true,
   "sideBar": true,
   "skip_h1_title": true,
   "title_cell": "Table of Contents",
   "title_sidebar": "Contents",
   "toc_cell": false,
   "toc_position": {},
   "toc_section_display": true,
   "toc_window_display": false
  }
 },
 "nbformat": 4,
 "nbformat_minor": 1
}
